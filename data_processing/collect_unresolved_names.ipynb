{
 "cells": [
  {
   "cell_type": "code",
   "execution_count": 1,
   "id": "5873072c-ff0d-45f3-9d51-8be4deb61e60",
   "metadata": {},
   "outputs": [
    {
     "name": "stderr",
     "output_type": "stream",
     "text": [
      "/groups/itay_mayrose/halabikeren/miniconda3/envs/ppn/lib/python3.10/site-packages/ete3-3.1.2-py3.7.egg/ete3/evol/parser/codemlparser.py:221: SyntaxWarning: \"is\" with a literal. Did you mean \"==\"?\n",
      "/groups/itay_mayrose/halabikeren/miniconda3/envs/ppn/lib/python3.10/site-packages/ete3-3.1.2-py3.7.egg/ete3/evol/parser/codemlparser.py:221: SyntaxWarning: \"is\" with a literal. Did you mean \"==\"?\n"
     ]
    }
   ],
   "source": [
    "import pandas as pd\n",
    "from ete3 import Tree\n",
    "from typing import List"
   ]
  },
  {
   "cell_type": "code",
   "execution_count": 2,
   "id": "3b123480-63e2-42cf-99d5-30c71e91ea28",
   "metadata": {},
   "outputs": [],
   "source": [
    "ploidb_dir = \"/groups/itay_mayrose/halabikeren/PloiDB/\"\n",
    "tree_1_path = f\"{ploidb_dir}trees/ALLMB.tre\"\n",
    "tree_2_path = f\"{ploidb_dir}/trees/ALLOTB.tre\"\n",
    "ccdb_data_path = f\"{ploidb_dir}/ccdb/all_data.csv\"\n",
    "\n",
    "tree_names_path = f\"{ploidb_dir}/name_resolution/trees_unresolved_names.csv\"\n",
    "tree_1_names_path = f\"{ploidb_dir}/name_resolution/ALLMB_tree_unresolved_names.csv\"\n",
    "tree_2_names_path = f\"{ploidb_dir}/name_resolution/ALLOTB_tree_unresolved_names.csv\"\n",
    "ccdb_names_path = f\"{ploidb_dir}/name_resolution/ccdb_unresolved_names.csv\"\n",
    "all_names_path = f\"{ploidb_dir}/name_resolution/all_unresolved_names.csv\""
   ]
  },
  {
   "cell_type": "code",
   "execution_count": 3,
   "id": "e881b3e8-6de3-4edc-b461-d218c592595b",
   "metadata": {},
   "outputs": [],
   "source": [
    "# extract unresolved names from the trees\n",
    "def get_tree_names(tree_path) -> List[str]:\n",
    "    tree = Tree(tree_path, format=1)\n",
    "    tree_leaf_names = [name.replace(\"_\",\" \").capitalize() for name in tree.get_leaf_names()]\n",
    "    return tree_leaf_names\n",
    "\n",
    "tree_1_names = get_tree_names(tree_path=tree_1_path)\n",
    "tree_2_names = get_tree_names(tree_path=tree_2_path)\n",
    "trees_names = list(set(tree_1_names + tree_2_names))\n",
    "tree_2_names = list(set(tree_2_names))"
   ]
  },
  {
   "cell_type": "code",
   "execution_count": 4,
   "id": "6aba9702-9286-4aff-acce-67c936183163",
   "metadata": {},
   "outputs": [],
   "source": [
    "# extract unresolved names from ccdb\n",
    "df = pd.read_csv(\"/groups/itay_mayrose/halabikeren/PloiDB/ccdb/all_data.csv\")\n",
    "ccdb_names = df.original_name.tolist()"
   ]
  },
  {
   "cell_type": "code",
   "execution_count": 5,
   "id": "c4125842-11a6-42a9-b6cb-e4915fcb4ac8",
   "metadata": {},
   "outputs": [
    {
     "name": "stdout",
     "output_type": "stream",
     "text": [
      "# unresolved names from trees = 359,382\n",
      "# unresolved names from ALLMB = 356,305\n",
      "# unresolved names from ALLOTB = 353,185\n",
      "# unresolved names from ccdb = 180,463\n",
      "# unresolved names from all = 518,874\n"
     ]
    }
   ],
   "source": [
    "tree_df = pd.DataFrame(pd.Series(trees_names), columns=[\"species_name\"]).drop_duplicates()\n",
    "print(f\"# unresolved names from trees = {tree_df.shape[0]:,}\")\n",
    "tree_df.to_csv(tree_names_path, index=False)\n",
    "\n",
    "tree_1_df = pd.DataFrame(pd.Series(tree_1_names), columns=[\"species_name\"]).drop_duplicates()\n",
    "print(f\"# unresolved names from ALLMB = {tree_1_df.shape[0]:,}\")\n",
    "tree_1_df.to_csv(tree_1_names_path, index=False)\n",
    "\n",
    "\n",
    "tree_2_df = pd.DataFrame(pd.Series(tree_2_names), columns=[\"species_name\"]).drop_duplicates()\n",
    "print(f\"# unresolved names from ALLOTB = {tree_2_df.shape[0]:,}\")\n",
    "tree_2_df.to_csv(tree_2_names_path, index=False)\n",
    "\n",
    "ccdb_df = pd.DataFrame(pd.Series(ccdb_names), columns=[\"species_name\"]).drop_duplicates()\n",
    "print(f\"# unresolved names from ccdb = {ccdb_df.shape[0]:,}\")\n",
    "ccdb_df.to_csv(ccdb_names_path, index=False)\n",
    "\n",
    "all_names_df = pd.concat([ccdb_df, tree_df]).drop_duplicates()\n",
    "print(f\"# unresolved names from all = {all_names_df.shape[0]:,}\")\n",
    "all_names_df.to_csv(all_names_path, index=False)"
   ]
  },
  {
   "cell_type": "code",
   "execution_count": 21,
   "id": "b35df9ae-e46a-4b77-866c-863e642059be",
   "metadata": {},
   "outputs": [],
   "source": [
    "taxonome_tree_df = tree_df.reset_index().rename(columns={\"index\": \"Id\", \"species_name\":\"Name\"})\n",
    "taxonome_tree_df.to_csv(\"./resolved_names_different_methods/taxonome/unresolved_tree_names_taxonome_format.csv\", index=False)\n",
    "\n",
    "taxonome_tree_2_df = tree_2_df.reset_index().rename(columns={\"index\": \"Id\", \"species_name\":\"Name\"})\n",
    "taxonome_tree_2_df.to_csv(\"./resolved_names_different_methods/taxonome/unresolved_ALLOTB_tree_names_taxonome_format.csv\", index=False)\n",
    "\n",
    "taxonome_ccdb_df = ccdb_df.reset_index().rename(columns={\"index\": \"Id\", \"species_name\":\"Name\"})\n",
    "taxonome_ccdb_df.to_csv(\"./resolved_names_different_methods/taxonome/unresolved_ccdb_names_taxonome_format.csv\", index=False)\n",
    "\n",
    "taxonome_unresolved_names = all_names_df.reset_index().rename(columns={\"index\": \"Id\", \"species_name\":\"Name\"})\n",
    "taxonome_unresolved_names.to_csv(\"./resolved_names_different_methods/taxonome/unresolved_names_taxonome_format.csv\", index=False)"
   ]
  },
  {
   "cell_type": "code",
   "execution_count": null,
   "id": "906c50ba-5564-4f1b-b88a-ec56eff56c0a",
   "metadata": {},
   "outputs": [],
   "source": []
  }
 ],
 "metadata": {
  "kernelspec": {
   "display_name": "Python 3 (ipykernel)",
   "language": "python",
   "name": "python3"
  },
  "language_info": {
   "codemirror_mode": {
    "name": "ipython",
    "version": 3
   },
   "file_extension": ".py",
   "mimetype": "text/x-python",
   "name": "python",
   "nbconvert_exporter": "python",
   "pygments_lexer": "ipython3",
   "version": "3.10.4"
  }
 },
 "nbformat": 4,
 "nbformat_minor": 5
}
