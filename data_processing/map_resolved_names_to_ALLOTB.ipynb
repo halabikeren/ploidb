{
 "cells": [
  {
   "cell_type": "code",
   "execution_count": 10,
   "id": "ec5c16b3-5d87-47e8-a139-f1db6519a27f",
   "metadata": {},
   "outputs": [
    {
     "name": "stdout",
     "output_type": "stream",
     "text": [
      "INFO: Pandarallel will run on 20 workers.\n",
      "INFO: Pandarallel will use standard multiprocessing data transfer (pipe) to transfer data between the main process and workers.\n"
     ]
    }
   ],
   "source": [
    "import pandas as pd\n",
    "import numpy as np\n",
    "\n",
    "from tqdm import tqdm\n",
    "tqdm.pandas()\n",
    "\n",
    "from pandarallel import pandarallel\n",
    "pandarallel.initialize(progress_bar=True, nb_workers=20, use_memory_fs=False)\n",
    "\n",
    "import os\n",
    "from ete3 import Tree\n",
    "import random\n",
    "\n",
    "import sys\n",
    "sys.path.append(\"/groups/itay_mayrose/halabikeren/tmp/ploidb/data_processing/\")\n",
    "from check_tree_monophyly import get_largest_monophyletic_group"
   ]
  },
  {
   "cell_type": "code",
   "execution_count": 2,
   "id": "a2d9b507-d8f2-4687-97b3-3e7ade580d4c",
   "metadata": {},
   "outputs": [],
   "source": [
    "ccdb_unresolved_names_path = \"/groups/itay_mayrose/halabikeren/PloiDB/name_resolution/ccdb_unresolved_names.csv\"\n",
    "allotb_unresolved_names_path = \"/groups/itay_mayrose/halabikeren/PloiDB/name_resolution/ALLOTB_tree_unresolved_names.csv\"\n",
    "allotb_tree_path = \"/groups/itay_mayrose/halabikeren/PloiDB/trees/ALLMB.tre\" \n",
    "\n",
    "ccdb_resolved_names_path = \"/groups/itay_mayrose/anatshafir1/ploidDB/rotl/ALLOTB/stats/resolved_name_mapping_ccdb.csv\"\n",
    "tree_resolved_names_path = \"/groups/itay_mayrose/anatshafir1/ploidDB/rotl/ALLOTB/stats/resolved_name_mapping_tree.csv\"\n",
    "intersection_resolved_names_path = \"/groups/itay_mayrose/anatshafir1/ploidDB/rotl/ALLOTB/stats/resolved_name_mapping_intersection.csv\"\n",
    "\n",
    "unresolved_tree_path = \"/groups/itay_mayrose/halabikeren/PloiDB/trees/ALLOTB.tre\"\n",
    "resolved_tree_path = \"/groups/itay_mayrose/halabikeren/PloiDB/trees/resolved_ALLOTB.nwk\"\n",
    "selected_tree_leaves_path = \"/groups/itay_mayrose/halabikeren/PloiDB/trees/selected_ALLOTB_original_names.csv\"\n",
    "\n",
    "unresolved_ccdb_path = \"/groups/itay_mayrose/halabikeren/PloiDB/ccdb/all_data.csv\"\n",
    "resolved_ccdb_path = \"/groups/itay_mayrose/halabikeren/PloiDB/ccdb/resolved_data.csv\""
   ]
  },
  {
   "cell_type": "code",
   "execution_count": 3,
   "id": "628c00ac-3740-4c70-9e07-05bb373fb815",
   "metadata": {},
   "outputs": [],
   "source": [
    "ccdb_unresolved_names = pd.read_csv(ccdb_unresolved_names_path)\n",
    "tree_unresolved_names = pd.read_csv(allotb_unresolved_names_path)"
   ]
  },
  {
   "cell_type": "code",
   "execution_count": 4,
   "id": "ebac7ba2-6224-4f17-bf8c-74ed1ae1a828",
   "metadata": {},
   "outputs": [],
   "source": [
    "def process_tree(path: str) -> Tree:\n",
    "    tree = Tree(path, format=1)\n",
    "    names = set()\n",
    "    for leaf in tree.get_leaves():\n",
    "        leaf_name = leaf.name.lower().replace(\"_\", \" \")\n",
    "        if leaf_name in names:\n",
    "            print(f\"{leaf_name} already in tree\")\n",
    "            leaf.detach()\n",
    "        else:\n",
    "            leaf.name = leaf_name\n",
    "            names.add(leaf_name)\n",
    "    return tree\n",
    "    \n",
    "unresolved_tree = process_tree(unresolved_tree_path)"
   ]
  },
  {
   "cell_type": "code",
   "execution_count": 6,
   "id": "1827a529-af09-483b-8a69-2878c236af12",
   "metadata": {},
   "outputs": [
    {
     "name": "stdout",
     "output_type": "stream",
     "text": [
      "ccdb coverage = 90.0%\n",
      "tree coverage = 96.96%\n",
      "intersection coverage = 19.34%\n"
     ]
    }
   ],
   "source": [
    "def process_resolved_names(path: str) -> pd.DataFrame:\n",
    "    resolved_names = pd.read_csv(path).drop(\"Unnamed: 0\", axis=1)\n",
    "    resolved_names.rename(columns={\"search_string\": \"corrected_original_name\", \n",
    "                                   \"unique_name\": \"resolved_name\"}, inplace=True)\n",
    "    resolved_names.original_name = resolved_names.original_name.str.lower()\n",
    "    resolved_names.corrected_original_name = resolved_names.corrected_original_name.str.lower()\n",
    "    resolved_names.resolved_name = resolved_names.resolved_name.str.lower()\n",
    "    resolved_names.sort_values(\"ott_id\", inplace=True)\n",
    "    resolved_names = resolved_names[[\"original_name\", \"corrected_original_name\", \"resolved_name\", \"ott_id\"]]\n",
    "    return resolved_names\n",
    "\n",
    "ccdb_resolved_names = process_resolved_names(path=ccdb_resolved_names_path)\n",
    "tree_resolved_names = process_resolved_names(path=tree_resolved_names_path)\n",
    "intersection_resolved_names = process_resolved_names(path=intersection_resolved_names_path)\n",
    "print(f\"ccdb coverage = {np.round(ccdb_resolved_names.shape[0]/ccdb_unresolved_names.shape[0]*100,2)}%\")\n",
    "print(f\"tree coverage = {np.round(tree_resolved_names.shape[0]/tree_unresolved_names.shape[0]*100,2)}%\")\n",
    "print(f\"intersection coverage = {np.round(len(intersection_resolved_names.ott_id.unique())/len(tree_resolved_names.ott_id.unique())*100,2)}%\")"
   ]
  },
  {
   "cell_type": "code",
   "execution_count": 12,
   "id": "f7d5eeef-ab67-49d4-8ee9-0778c5df1de4",
   "metadata": {},
   "outputs": [
    {
     "name": "stdout",
     "output_type": "stream",
     "text": [
      "original number of leaves = 353,185\n",
      "number of leaves after prunning of unmapped names to ccdb = 74,569\n"
     ]
    },
    {
     "data": {
      "application/vnd.jupyter.widget-view+json": {
       "model_id": "8993871527ed4331a3fe40e1de43a308",
       "version_major": 2,
       "version_minor": 0
      },
      "text/plain": [
       "VBox(children=(HBox(children=(IntProgress(value=0, description='0.00%', max=2996), Label(value='0 / 2996'))), …"
      ]
     },
     "metadata": {},
     "output_type": "display_data"
    },
    {
     "name": "stdout",
     "output_type": "stream",
     "text": [
      "number of leaves after removal of leaves with identical resolved name = 59,909\n"
     ]
    }
   ],
   "source": [
    "def add_resolved_names(tree: Tree, resolved_names: pd.DataFrame):\n",
    "    orig_to_resolved = resolved_names.set_index(\"original_name\")[\"resolved_name\"].to_dict()\n",
    "    for leaf in tree.get_leaves():\n",
    "        leaf.add_feature(pr_name=\"resolved_name\", pr_value=orig_to_resolved[leaf.name])\n",
    "\n",
    "\n",
    "def select_orig_name(record: pd.Series, tree: Tree, ccdb_orig_names: list[str]) -> str:\n",
    "    resolved_name = record.resolved_name\n",
    "    orig_names = record.original_names\n",
    "    if len(orig_names) == 1:\n",
    "        return orig_names[0]\n",
    "    is_monophyletic, clade_type, monophyly_violators = tree.check_monophyly(values=[resolved_name], target_attr=\"resolved_name\")\n",
    "    if is_monophyletic:\n",
    "        return random.choice(orig_names)\n",
    "    else:\n",
    "        lca = tree\n",
    "        try:\n",
    "            lca = tree.get_common_ancestor([l for l in tree.get_leaves() if l.resolved_name == resolved_name])\n",
    "        except Exception as e:\n",
    "            print(f\"Couldn't find lca for {', '.join(orig_names)} due to error {e}, and will thus set the root as lca\")\n",
    "        mono_root, mono_size, is_larger_than_rest = get_largest_monophyletic_group(root=lca, property_value=resolved_name, property_name=\"resolved_name\")\n",
    "        if is_larger_than_rest:\n",
    "            return random.choice(mono_root.get_leaf_names())\n",
    "        else:\n",
    "            orig_names_in_ccdb = [name for name in orig_names if name in ccdb_orig_names]\n",
    "            if len(orig_names_in_ccdb) == 1:\n",
    "                return orig_names_in_ccdb[0]\n",
    "    return random.choice(orig_names)\n",
    "  \n",
    "    \n",
    "def resolve_tree(tree: Tree, resolved_names: pd.DataFrame, ccdb_orig_names: list[str]) -> tuple[Tree, pd.DataFrame]:\n",
    "    resolved_tree = tree.copy()\n",
    "    print(f\"original number of leaves = {len(resolved_tree.get_leaf_names()):,}\")\n",
    "    leaves_to_keep = resolved_names.original_name.tolist()\n",
    "    resolved_tree.prune(leaves_to_keep)\n",
    "    add_resolved_names(tree=resolved_tree, resolved_names=resolved_names)\n",
    "    print(f\"number of leaves after prunning of unmapped names to ccdb = {len(resolved_tree.get_leaf_names()):,}\")\n",
    "    resolved_to_orig = resolved_names.groupby(\"resolved_name\")[\"original_name\"].apply(lambda names: names.tolist()).reset_index().rename(columns={\"original_name\": \"original_names\"})\n",
    "    resolved_to_orig[\"selected_original_name\"] = resolved_to_orig.parallel_apply(lambda record: select_orig_name(record=record, tree=resolved_tree, ccdb_orig_names=ccdb_orig_names), axis=1)\n",
    "    resolved_tree.prune(resolved_to_orig[\"selected_original_name\"].tolist())\n",
    "    print(f\"number of leaves after removal of leaves with identical resolved name = {len(resolved_tree.get_leaf_names()):,}\")\n",
    "    for leaf in resolved_tree.get_leaves():\n",
    "        leaf.name = leaf.resolved_name\n",
    "    return resolved_tree, resolved_to_orig\n",
    "\n",
    "\n",
    "resolved_tree, resolved_to_selected_orig = resolve_tree(tree=unresolved_tree, resolved_names=intersection_resolved_names, ccdb_orig_names=ccdb_resolved_names.original_name.tolist())\n",
    "resolved_tree.write(outfile=resolved_tree_path, format=1)\n",
    "resolved_to_selected_orig.to_csv(selected_tree_leaves_path, index=False)"
   ]
  },
  {
   "cell_type": "code",
   "execution_count": 22,
   "id": "272e89f4-e07c-40da-81b6-d75f41223e30",
   "metadata": {},
   "outputs": [
    {
     "data": {
      "text/html": [
       "<div>\n",
       "<style scoped>\n",
       "    .dataframe tbody tr th:only-of-type {\n",
       "        vertical-align: middle;\n",
       "    }\n",
       "\n",
       "    .dataframe tbody tr th {\n",
       "        vertical-align: top;\n",
       "    }\n",
       "\n",
       "    .dataframe thead th {\n",
       "        text-align: right;\n",
       "    }\n",
       "</style>\n",
       "<table border=\"1\" class=\"dataframe\">\n",
       "  <thead>\n",
       "    <tr style=\"text-align: right;\">\n",
       "      <th></th>\n",
       "      <th>resolved_name</th>\n",
       "      <th>original_names</th>\n",
       "      <th>selected_original_name</th>\n",
       "      <th>num_original_names</th>\n",
       "    </tr>\n",
       "  </thead>\n",
       "  <tbody>\n",
       "    <tr>\n",
       "      <th>55126</th>\n",
       "      <td>taraxacum sp.</td>\n",
       "      <td>[taraxacum sp. abc845, taraxacum sp. ad972, ta...</td>\n",
       "      <td>taraxacum sp. js 8129</td>\n",
       "      <td>64</td>\n",
       "    </tr>\n",
       "    <tr>\n",
       "      <th>48421</th>\n",
       "      <td>rubus setosus</td>\n",
       "      <td>[rubus sp. ms-2014l, rubus sp. dis6, rubus sp....</td>\n",
       "      <td>rubus sp. dis12</td>\n",
       "      <td>63</td>\n",
       "    </tr>\n",
       "    <tr>\n",
       "      <th>50053</th>\n",
       "      <td>schismatoglottis tecturata</td>\n",
       "      <td>[schismatoglottis sp. sll-2016c, schismatoglot...</td>\n",
       "      <td>schismatoglottis sp. ar4096</td>\n",
       "      <td>49</td>\n",
       "    </tr>\n",
       "    <tr>\n",
       "      <th>40648</th>\n",
       "      <td>pandanus tectorius</td>\n",
       "      <td>[pandanus acuminatus, pandanus soboliferus, pa...</td>\n",
       "      <td>pandanus tectorius</td>\n",
       "      <td>33</td>\n",
       "    </tr>\n",
       "    <tr>\n",
       "      <th>48005</th>\n",
       "      <td>rosa canina</td>\n",
       "      <td>[rosa dumetorum, rosa adenocalyx, rosa ambigua...</td>\n",
       "      <td>rosa semiglandulosa</td>\n",
       "      <td>23</td>\n",
       "    </tr>\n",
       "    <tr>\n",
       "      <th>...</th>\n",
       "      <td>...</td>\n",
       "      <td>...</td>\n",
       "      <td>...</td>\n",
       "      <td>...</td>\n",
       "    </tr>\n",
       "    <tr>\n",
       "      <th>58915</th>\n",
       "      <td>viola nephrophylla</td>\n",
       "      <td>[viola mccabeiana, viola austinae, viola nephr...</td>\n",
       "      <td>viola nephrophylla</td>\n",
       "      <td>3</td>\n",
       "    </tr>\n",
       "    <tr>\n",
       "      <th>21169</th>\n",
       "      <td>elymus panormitanus</td>\n",
       "      <td>[elymus panormitanus, agropyron panormitanum, ...</td>\n",
       "      <td>agropyron panormitanum</td>\n",
       "      <td>3</td>\n",
       "    </tr>\n",
       "    <tr>\n",
       "      <th>45047</th>\n",
       "      <td>potamogeton fluitans</td>\n",
       "      <td>[potamogeton oblongus, potamogeton harzii, pot...</td>\n",
       "      <td>potamogeton oblongus</td>\n",
       "      <td>3</td>\n",
       "    </tr>\n",
       "    <tr>\n",
       "      <th>19026</th>\n",
       "      <td>dichanthelium depauperatum</td>\n",
       "      <td>[panicum muehlenbergianum, dichanthelium depau...</td>\n",
       "      <td>panicum incomptum</td>\n",
       "      <td>3</td>\n",
       "    </tr>\n",
       "    <tr>\n",
       "      <th>45048</th>\n",
       "      <td>potamogeton friesii</td>\n",
       "      <td>[potamogeton mucronatus, potamogeton friesii, ...</td>\n",
       "      <td>potamogeton friesii</td>\n",
       "      <td>3</td>\n",
       "    </tr>\n",
       "  </tbody>\n",
       "</table>\n",
       "<p>2675 rows × 4 columns</p>\n",
       "</div>"
      ],
      "text/plain": [
       "                    resolved_name  \\\n",
       "55126               taraxacum sp.   \n",
       "48421               rubus setosus   \n",
       "50053  schismatoglottis tecturata   \n",
       "40648          pandanus tectorius   \n",
       "48005                 rosa canina   \n",
       "...                           ...   \n",
       "58915          viola nephrophylla   \n",
       "21169         elymus panormitanus   \n",
       "45047        potamogeton fluitans   \n",
       "19026  dichanthelium depauperatum   \n",
       "45048         potamogeton friesii   \n",
       "\n",
       "                                          original_names  \\\n",
       "55126  [taraxacum sp. abc845, taraxacum sp. ad972, ta...   \n",
       "48421  [rubus sp. ms-2014l, rubus sp. dis6, rubus sp....   \n",
       "50053  [schismatoglottis sp. sll-2016c, schismatoglot...   \n",
       "40648  [pandanus acuminatus, pandanus soboliferus, pa...   \n",
       "48005  [rosa dumetorum, rosa adenocalyx, rosa ambigua...   \n",
       "...                                                  ...   \n",
       "58915  [viola mccabeiana, viola austinae, viola nephr...   \n",
       "21169  [elymus panormitanus, agropyron panormitanum, ...   \n",
       "45047  [potamogeton oblongus, potamogeton harzii, pot...   \n",
       "19026  [panicum muehlenbergianum, dichanthelium depau...   \n",
       "45048  [potamogeton mucronatus, potamogeton friesii, ...   \n",
       "\n",
       "            selected_original_name  num_original_names  \n",
       "55126        taraxacum sp. js 8129                  64  \n",
       "48421              rubus sp. dis12                  63  \n",
       "50053  schismatoglottis sp. ar4096                  49  \n",
       "40648           pandanus tectorius                  33  \n",
       "48005          rosa semiglandulosa                  23  \n",
       "...                            ...                 ...  \n",
       "58915           viola nephrophylla                   3  \n",
       "21169       agropyron panormitanum                   3  \n",
       "45047         potamogeton oblongus                   3  \n",
       "19026            panicum incomptum                   3  \n",
       "45048          potamogeton friesii                   3  \n",
       "\n",
       "[2675 rows x 4 columns]"
      ]
     },
     "execution_count": 22,
     "metadata": {},
     "output_type": "execute_result"
    }
   ],
   "source": [
    "resolved_to_selected_orig[\"num_original_names\"] = resolved_to_selected_orig.original_names.apply(len)\n",
    "resolved_to_selected_orig.sort_values(\"num_original_names\", ascending=False).loc[resolved_to_selected_orig.num_original_names > 2]"
   ]
  }
 ],
 "metadata": {
  "kernelspec": {
   "display_name": "Python 3 (ipykernel)",
   "language": "python",
   "name": "python3"
  },
  "language_info": {
   "codemirror_mode": {
    "name": "ipython",
    "version": 3
   },
   "file_extension": ".py",
   "mimetype": "text/x-python",
   "name": "python",
   "nbconvert_exporter": "python",
   "pygments_lexer": "ipython3",
   "version": "3.10.4"
  }
 },
 "nbformat": 4,
 "nbformat_minor": 5
}
