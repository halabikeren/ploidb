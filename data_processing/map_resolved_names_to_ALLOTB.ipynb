{
 "cells": [
  {
   "cell_type": "code",
   "execution_count": 37,
   "id": "ec5c16b3-5d87-47e8-a139-f1db6519a27f",
   "metadata": {},
   "outputs": [
    {
     "name": "stdout",
     "output_type": "stream",
     "text": [
      "INFO: Pandarallel will run on 20 workers.\n",
      "INFO: Pandarallel will use standard multiprocessing data transfer (pipe) to transfer data between the main process and workers.\n"
     ]
    }
   ],
   "source": [
    "import pandas as pd\n",
    "import numpy as np\n",
    "\n",
    "from tqdm import tqdm\n",
    "tqdm.pandas()\n",
    "\n",
    "from pandarallel import pandarallel\n",
    "pandarallel.initialize(progress_bar=True, nb_workers=20, use_memory_fs=False)\n",
    "\n",
    "import os\n",
    "from ete3 import Tree\n",
    "import random\n",
    "\n",
    "import sys\n",
    "sys.path.append(\"/groups/itay_mayrose/halabikeren/tmp/ploidb/data_processing/\")\n",
    "from check_tree_monophyly import get_largest_monophyletic_group"
   ]
  },
  {
   "cell_type": "code",
   "execution_count": 38,
   "id": "a2d9b507-d8f2-4687-97b3-3e7ade580d4c",
   "metadata": {},
   "outputs": [],
   "source": [
    "ccdb_unresolved_names_path = \"/groups/itay_mayrose/halabikeren/PloiDB/name_resolution/ccdb_unresolved_names.csv\"\n",
    "allotb_unresolved_names_path = \"/groups/itay_mayrose/halabikeren/PloiDB/name_resolution/ALLOTB_tree_unresolved_names.csv\"\n",
    "allotb_tree_path = \"/groups/itay_mayrose/halabikeren/PloiDB/trees/ALLMB.tre\" \n",
    "\n",
    "ccdb_resolved_names_path = \"/groups/itay_mayrose/anatshafir1/ploidDB/rotl/ALLOTB/stats/resolved_name_mapping_ccdb.csv\"\n",
    "tree_resolved_names_path = \"/groups/itay_mayrose/anatshafir1/ploidDB/rotl/ALLOTB/stats/resolved_name_mapping_tree.csv\"\n",
    "intersection_resolved_names_path = \"/groups/itay_mayrose/anatshafir1/ploidDB/rotl/ALLOTB/stats/resolved_name_mapping_intersection.csv\"\n",
    "\n",
    "unresolved_tree_path = \"/groups/itay_mayrose/halabikeren/PloiDB/trees/ALLOTB.tre\"\n",
    "resolved_tree_path = \"/groups/itay_mayrose/halabikeren/PloiDB/trees/resolved_ALLOTB.nwk\"\n",
    "selected_tree_leaves_path = \"/groups/itay_mayrose/halabikeren/PloiDB/trees/selected_ALLOTB_original_names.csv\"\n",
    "\n",
    "unresolved_ccdb_path = \"/groups/itay_mayrose/halabikeren/PloiDB/ccdb/all_data.csv\"\n",
    "resolved_ccdb_path = \"/groups/itay_mayrose/halabikeren/PloiDB/ccdb/resolved_data.csv\""
   ]
  },
  {
   "cell_type": "code",
   "execution_count": 39,
   "id": "628c00ac-3740-4c70-9e07-05bb373fb815",
   "metadata": {},
   "outputs": [],
   "source": [
    "ccdb_unresolved_names = pd.read_csv(ccdb_unresolved_names_path)\n",
    "tree_unresolved_names = pd.read_csv(allotb_unresolved_names_path)"
   ]
  },
  {
   "cell_type": "code",
   "execution_count": 40,
   "id": "ebac7ba2-6224-4f17-bf8c-74ed1ae1a828",
   "metadata": {},
   "outputs": [],
   "source": [
    "def process_tree(path: str) -> Tree:\n",
    "    tree = Tree(path, format=1)\n",
    "    names = set()\n",
    "    for leaf in tree.get_leaves():\n",
    "        leaf_name = leaf.name.lower().replace(\"_\", \" \")\n",
    "        if leaf_name in names:\n",
    "            print(f\"{leaf_name} already in tree\")\n",
    "            leaf.detach()\n",
    "        else:\n",
    "            leaf.name = leaf_name\n",
    "            names.add(leaf_name)\n",
    "    return tree\n",
    "    \n",
    "unresolved_tree = process_tree(unresolved_tree_path)"
   ]
  },
  {
   "cell_type": "code",
   "execution_count": 43,
   "id": "1827a529-af09-483b-8a69-2878c236af12",
   "metadata": {},
   "outputs": [
    {
     "name": "stdout",
     "output_type": "stream",
     "text": [
      "ccdb coverage = 90.0%\n",
      "tree coverage = 96.96%\n",
      "intersection coverage = 19.34%\n"
     ]
    }
   ],
   "source": [
    "def correct_name(name: str) -> str:\n",
    "    name = name.split(\"(\")[0]\n",
    "    name = name.split(\",\")[0]\n",
    "    if name.endswith(\" \"):\n",
    "        name = name[:-1]\n",
    "    return name\n",
    "\n",
    "def process_resolved_names(path: str) -> pd.DataFrame:\n",
    "    resolved_names = pd.read_csv(path).drop(\"Unnamed: 0\", axis=1)\n",
    "    resolved_names.rename(columns={\"search_string\": \"corrected_original_name\", \n",
    "                                   \"unique_name\": \"resolved_name\"}, inplace=True)\n",
    "    resolved_names.original_name = resolved_names.original_name.str.lower()\n",
    "    resolved_names.corrected_original_name = resolved_names.corrected_original_name.str.lower()\n",
    "    resolved_names.resolved_name = resolved_names.resolved_name.str.lower()\n",
    "    resolved_names[\"corrected_resolved_name\"] = resolved_names.resolved_name.apply(correct_name)\n",
    "    resolved_names.sort_values(\"ott_id\", inplace=True)\n",
    "    resolved_names = resolved_names[[\"original_name\", \"corrected_original_name\", \"resolved_name\", \"corrected_resolved_name\", \"ott_id\"]]\n",
    "    return resolved_names\n",
    "\n",
    "ccdb_resolved_names = process_resolved_names(path=ccdb_resolved_names_path)\n",
    "tree_resolved_names = process_resolved_names(path=tree_resolved_names_path)\n",
    "intersection_resolved_names = process_resolved_names(path=intersection_resolved_names_path)\n",
    "print(f\"ccdb coverage = {np.round(ccdb_resolved_names.shape[0]/ccdb_unresolved_names.shape[0]*100,2)}%\")\n",
    "print(f\"tree coverage = {np.round(tree_resolved_names.shape[0]/tree_unresolved_names.shape[0]*100,2)}%\")\n",
    "print(f\"intersection coverage = {np.round(len(intersection_resolved_names.ott_id.unique())/len(tree_resolved_names.ott_id.unique())*100,2)}%\")"
   ]
  },
  {
   "cell_type": "code",
   "execution_count": 44,
   "id": "f7d5eeef-ab67-49d4-8ee9-0778c5df1de4",
   "metadata": {},
   "outputs": [
    {
     "name": "stdout",
     "output_type": "stream",
     "text": [
      "original number of leaves = 353,185\n",
      "number of leaves after prunning of unmapped names to ccdb = 74,569\n",
      "number of leaves after removal of leaves with identical resolved name = 59,909\n"
     ]
    }
   ],
   "source": [
    "def add_resolved_names(tree: Tree, resolved_names: pd.DataFrame):\n",
    "    orig_to_resolved = resolved_names.set_index(\"original_name\")[\"corrected_resolved_name\"].to_dict()\n",
    "    for leaf in tree.get_leaves():\n",
    "        leaf.add_feature(pr_name=\"corrected_resolved_name\", pr_value=orig_to_resolved[leaf.name])\n",
    "\n",
    "\n",
    "def select_orig_name(record: pd.Series, tree: Tree, ccdb_orig_names: list[str]) -> str:\n",
    "    resolved_name = record.corrected_resolved_name\n",
    "    orig_names = record.original_names\n",
    "    if len(orig_names) == 1:\n",
    "        return orig_names[0]\n",
    "    is_monophyletic, clade_type, monophyly_violators = tree.check_monophyly(values=[resolved_name], target_attr=\"resolved_name\")\n",
    "    if is_monophyletic:\n",
    "        return random.choice(orig_names)\n",
    "    else:\n",
    "        lca = tree\n",
    "        try:\n",
    "            lca = tree.get_common_ancestor([l for l in tree.get_leaves() if l.corrected_resolved_name == resolved_name])\n",
    "        except Exception as e:\n",
    "            print(f\"Couldn't find lca for {', '.join(orig_names)} due to error {e}, and will thus set the root as lca\")\n",
    "        mono_root, mono_size, is_larger_than_rest = get_largest_monophyletic_group(root=lca, property_value=resolved_name, property_name=\"resolved_name\")\n",
    "        if is_larger_than_rest:\n",
    "            return random.choice(mono_root.get_leaf_names())\n",
    "        else:\n",
    "            orig_names_in_ccdb = [name for name in orig_names if name in ccdb_orig_names]\n",
    "            if len(orig_names_in_ccdb) == 1:\n",
    "                return orig_names_in_ccdb[0]\n",
    "    return random.choice(orig_names)\n",
    "  \n",
    "    \n",
    "def resolve_tree(tree: Tree, resolved_names: pd.DataFrame, ccdb_orig_names: list[str], resolved_to_selected_orig_path: str) -> Tree:\n",
    "    resolved_tree = tree.copy()\n",
    "    print(f\"original number of leaves = {len(resolved_tree.get_leaf_names()):,}\")\n",
    "    leaves_to_keep = resolved_names.original_name.tolist()\n",
    "    resolved_tree.prune(leaves_to_keep)\n",
    "    add_resolved_names(tree=resolved_tree, resolved_names=resolved_names)\n",
    "    print(f\"number of leaves after prunning of unmapped names to ccdb = {len(resolved_tree.get_leaf_names()):,}\")\n",
    "    if os.path.exists(resolved_to_selected_orig_path):\n",
    "        resolved_to_orig = pd.read_csv(resolved_to_selected_orig_path)\n",
    "    else:\n",
    "        resolved_to_orig = resolved_names.groupby(\"resolved_name\")[\"original_name\"].apply(lambda names: names.tolist()).reset_index().rename(columns={\"original_name\": \"original_names\"})\n",
    "        resolved_to_orig[\"selected_original_name\"] = resolved_to_orig.parallel_apply(lambda record: select_orig_name(record=record, tree=resolved_tree, ccdb_orig_names=ccdb_orig_names), axis=1)\n",
    "        resolved_to_orig.to_csv(resolved_to_selected_orig_path, index=False)\n",
    "    resolved_tree.prune(resolved_to_orig[\"selected_original_name\"].tolist())\n",
    "    print(f\"number of leaves after removal of leaves with identical resolved name = {len(resolved_tree.get_leaf_names()):,}\")\n",
    "    for leaf in resolved_tree.get_leaves():\n",
    "        leaf.name = leaf.corrected_resolved_name\n",
    "    return resolved_tree\n",
    "\n",
    "\n",
    "resolved_tree = resolve_tree(tree=unresolved_tree, \n",
    "                             resolved_names=intersection_resolved_names, \n",
    "                             ccdb_orig_names=ccdb_resolved_names.original_name.tolist(), \n",
    "                             resolved_to_selected_orig_path=selected_tree_leaves_path)\n",
    "resolved_tree.write(outfile=resolved_tree_path)"
   ]
  }
 ],
 "metadata": {
  "kernelspec": {
   "display_name": "Python 3 (ipykernel)",
   "language": "python",
   "name": "python3"
  },
  "language_info": {
   "codemirror_mode": {
    "name": "ipython",
    "version": 3
   },
   "file_extension": ".py",
   "mimetype": "text/x-python",
   "name": "python",
   "nbconvert_exporter": "python",
   "pygments_lexer": "ipython3",
   "version": "3.10.4"
  }
 },
 "nbformat": 4,
 "nbformat_minor": 5
}
