{
 "cells": [
  {
   "cell_type": "code",
   "execution_count": null,
   "id": "682986b2-40b0-4a50-b90d-95b1f07f7996",
   "metadata": {},
   "outputs": [],
   "source": [
    "import pandas as pd\n",
    "import numpy as np\n",
    "import pickle\n",
    "\n",
    "from tqdm import tqdm\n",
    "tqdm.pandas()\n",
    "\n",
    "import os\n",
    "from ete3 import Tree\n",
    "import random\n",
    "\n",
    "import sys\n",
    "sys.path.append(\"/groups/itay_mayrose/halabikeren/tmp/ploidb/\")\n",
    "from data_generation.taxonomy import add_taxonomic_data\n",
    "from data_processing.check_tree_monophyly import get_largest_monophyletic_group"
   ]
  },
  {
   "cell_type": "code",
   "execution_count": null,
   "id": "f2b2b070-6d27-4eaa-9487-7733ab9fed13",
   "metadata": {},
   "outputs": [],
   "source": [
    "unresolved_ccdb_path = \"/groups/itay_mayrose/halabikeren/PloiDB/ccdb/all_data.csv\"\n",
    "resolved_ccdb_path = \"/groups/itay_mayrose/halabikeren/PloiDB/ccdb/resolved_data.csv\"\n",
    "resolved_ccdb_orig_names_path = \"./tnrs_origs_resolved.pkl\"\n",
    "taxonomy_filling_script_path = \"/groups/itay_mayrose/halabikeren/tmp/plant_pollinator_inter/get_taxonomic_data.py\"\n",
    "taxonomy_filling_log_path = \"/groups/itay_mayrose/halabikeren/PloiDB/ccdb/taxonomy_filling.log\""
   ]
  },
  {
   "cell_type": "code",
   "execution_count": null,
   "id": "6f85b2f0-650a-4b92-9b30-ad87662489e0",
   "metadata": {},
   "outputs": [],
   "source": [
    "ccdb = pd.read_csv(unresolved_ccdb_path)\n",
    "ccdb.original_name = ccdb.original_name.str.lower()"
   ]
  },
  {
   "cell_type": "code",
   "execution_count": null,
   "id": "9c7a6953-e1bf-4efe-b28b-22b9a71b1a40",
   "metadata": {},
   "outputs": [],
   "source": [
    "ccdb_resolved_names_path = \"/groups/itay_mayrose/anatshafir1/ploidDB/rotl/ALLOTB/stats/resolved_name_mapping_ccdb.csv\"\n",
    "tree_resolved_names_path = \"/groups/itay_mayrose/anatshafir1/ploidDB/rotl/ALLOTB/stats/resolved_name_mapping_tree.csv\"\n",
    "intersection_resolved_names_path = \"/groups/itay_mayrose/anatshafir1/ploidDB/rotl/ALLOTB/stats/resolved_name_mapping_intersection.csv\""
   ]
  },
  {
   "cell_type": "code",
   "execution_count": null,
   "id": "f6eb4945-84a4-45d0-be4e-60b1c0d45649",
   "metadata": {},
   "outputs": [],
   "source": [
    "def correct_name(name: str) -> str:\n",
    "    name = name.split(\"(\")[0]\n",
    "    name = name.split(\",\")[0]\n",
    "    name = name.split(\".\")[0]\n",
    "    if name.endswith(\" \"):\n",
    "        name = name[:-1]\n",
    "    return name\n",
    "\n",
    "def process_resolved_names(path: str) -> pd.DataFrame:\n",
    "    resolved_names = pd.read_csv(path).drop(\"Unnamed: 0\", axis=1)\n",
    "    resolved_names.rename(columns={\"search_string\": \"corrected_original_name\", \n",
    "                                   \"unique_name\": \"resolved_name\"}, inplace=True)\n",
    "    resolved_names.original_name = resolved_names.original_name.str.lower()\n",
    "    resolved_names.corrected_original_name = resolved_names.corrected_original_name.str.lower()\n",
    "    resolved_names.resolved_name = resolved_names.resolved_name.str.lower()\n",
    "    resolved_names[\"corrected_resolved_name\"] = resolved_names.resolved_name.apply(correct_name)\n",
    "    resolved_names.sort_values(\"ott_id\", inplace=True)\n",
    "    resolved_names = resolved_names[[\"original_name\", \"corrected_original_name\", \"resolved_name\", \"corrected_resolved_name\", \"ott_id\"]]\n",
    "    return resolved_names\n",
    "\n",
    "ccdb_resolved_names = process_resolved_names(path=ccdb_resolved_names_path)\n",
    "intersection_resolved_names = process_resolved_names(path=intersection_resolved_names_path)"
   ]
  },
  {
   "cell_type": "code",
   "execution_count": null,
   "id": "ed874c81-7d22-4aea-a803-5bb58f115daa",
   "metadata": {},
   "outputs": [],
   "source": [
    "def comb(parsed_n: pd.Series) -> list[int]:\n",
    "    values = [val.replace(\" \", \"\").split(\",\") for val in parsed_n.dropna().values]\n",
    "    nums = []\n",
    "    for val in values:\n",
    "        nums += [int(n) for n in val if pd.notna(int(n))]\n",
    "    nums.sort()\n",
    "    return nums\n",
    "\n",
    "def get_single_val(records: pd.Series) -> str:\n",
    "    uniques = records.dropna().unique().tolist()\n",
    "    if len(uniques) == 0:\n",
    "        return np.nan\n",
    "    if len(uniques) > 1:\n",
    "        return ','.join(uniques).lower()\n",
    "    return uniques[0].lower()\n",
    "        \n",
    "resolved_ccdb = ccdb[[\"original_name\", \"parsed_n\"]].merge(ccdb_resolved_names[[\"original_name\", \"corrected_resolved_name\"]], on=\"original_name\", how=\"left\")\n",
    "relevant_resolved_ccdb = resolved_ccdb.loc[(resolved_ccdb.corrected_resolved_name.isin(intersection_resolved_names.corrected_resolved_name)) & (resolved_ccdb.parsed_n.notna())]\n",
    "with open(resolved_ccdb_orig_names_path, \"wb\") as out:\n",
    "    pickle.dump(file=out, obj=set(resolved_ccdb.original_name.tolist()))\n",
    "\n",
    "intersected_resolved_names = set(intersection_resolved_names.resolved_name.tolist())\n",
    "resolved_names_with_cn = set(relevant_resolved_ccdb.corrected_resolved_name.tolist())\n",
    "resolved_names_without_cn = [name for name in intersected_resolved_names if name not in resolved_names_with_cn]\n",
    "print(f\"{len(resolved_names_without_cn):,} names our of {len(intersected_resolved_names):,} have no chromosome number data, leaving us with {len(resolved_names_with_cn):,} names\")\n",
    "\n",
    "ccdb_by_resolved_name = relevant_resolved_ccdb.groupby(\"corrected_resolved_name\").agg({\"original_name\": lambda x: x.unique().tolist(), \n",
    "                                                                              \"parsed_n\": comb}).rename(columns={\"original_name\": \"original_names\",\n",
    "                                                                                                                      \"genus\": \"taxonome_genus\",\n",
    "                                                                                                                      \"family\": \"taxonome_family\"}).reset_index()\n",
    "ccdb_by_resolved_name[\"parsed_n_mean\"] = ccdb_by_resolved_name[\"parsed_n\"].apply(np.mean)\n",
    "ccdb_by_resolved_name[\"parsed_n_median\"] = ccdb_by_resolved_name[\"parsed_n\"].apply(np.median)\n",
    "ccdb_by_resolved_name[\"parsed_n_min\"] = ccdb_by_resolved_name[\"parsed_n\"].apply(np.min)\n",
    "ccdb_by_resolved_name[\"parsed_n_max\"] = ccdb_by_resolved_name[\"parsed_n\"].apply(np.max)\n",
    "ccdb_by_resolved_name[\"parsed_n_std\"] = ccdb_by_resolved_name[\"parsed_n\"].apply(np.std)\n",
    "ccdb_by_resolved_name.sort_values(\"parsed_n_std\", ascending=False, inplace=True)"
   ]
  },
  {
   "cell_type": "code",
   "execution_count": null,
   "id": "54bfd1ec-256e-4368-a6c8-b79d6fc06178",
   "metadata": {},
   "outputs": [],
   "source": [
    "\"callicarpa macrophylla (species in kingdom archaeplastida)\" in set(intersection_resolved_names.resolved_name)"
   ]
  },
  {
   "cell_type": "code",
   "execution_count": 10,
   "id": "8d6e6ece-1969-4fcc-bf8b-937fa8486447",
   "metadata": {},
   "outputs": [],
   "source": [
    "import logging\n",
    "logging.basicConfig(level=logging.INFO,format=\"%(asctime)s module: %(module)s function: %(funcName)s line %(lineno)d: %(message)s\",handlers=[logging.StreamHandler(sys.stdout)],force=True)"
   ]
  },
  {
   "cell_type": "code",
   "execution_count": null,
   "id": "26bcb058-8434-4aa3-bb60-1ed06abc4a15",
   "metadata": {},
   "outputs": [
    {
     "name": "stdout",
     "output_type": "stream",
     "text": [
      "2022-06-09 19:22:32,163 module: taxonomy function: get_taxonomic_data line 40: % names covered by db taxonomic data = 0.0%\n"
     ]
    },
    {
     "data": {
      "application/vnd.jupyter.widget-view+json": {
       "model_id": "6cfb591b25724010b361a0bf2405d1b9",
       "version_major": 2,
       "version_minor": 0
      },
      "text/plain": [
       "VBox(children=(HBox(children=(IntProgress(value=0, description='0.00%', max=11841), Label(value='0 / 11841')))…"
      ]
     },
     "metadata": {},
     "output_type": "display_data"
    },
    {
     "name": "stderr",
     "output_type": "stream",
     "text": [
      "/groups/itay_mayrose/halabikeren/miniconda3/envs/ppn/lib/python3.10/site-packages/Bio/Entrez/__init__.py:658: UserWarning: \n",
      "Email address is not specified.\n",
      "\n",
      "To make use of NCBI's E-utilities, NCBI requires you to specify your\n",
      "email address with each request.  As an example, if your email address\n",
      "is A.N.Other@example.com, you can specify it as follows:\n",
      "   from Bio import Entrez\n",
      "   Entrez.email = 'A.N.Other@example.com'\n",
      "In case of excessive usage of the E-utilities, NCBI will attempt to contact\n",
      "a user at the email address provided before blocking access to the\n",
      "E-utilities.\n",
      "  warnings.warn(\n",
      "/groups/itay_mayrose/halabikeren/miniconda3/envs/ppn/lib/python3.10/site-packages/Bio/Entrez/__init__.py:658: UserWarning: \n",
      "Email address is not specified.\n",
      "\n",
      "To make use of NCBI's E-utilities, NCBI requires you to specify your\n",
      "email address with each request.  As an example, if your email address\n",
      "is A.N.Other@example.com, you can specify it as follows:\n",
      "   from Bio import Entrez\n",
      "   Entrez.email = 'A.N.Other@example.com'\n",
      "In case of excessive usage of the E-utilities, NCBI will attempt to contact\n",
      "a user at the email address provided before blocking access to the\n",
      "E-utilities.\n",
      "  warnings.warn(\n",
      "/groups/itay_mayrose/halabikeren/miniconda3/envs/ppn/lib/python3.10/site-packages/Bio/Entrez/__init__.py:658: UserWarning: \n",
      "Email address is not specified.\n",
      "\n",
      "To make use of NCBI's E-utilities, NCBI requires you to specify your\n",
      "email address with each request.  As an example, if your email address\n",
      "is A.N.Other@example.com, you can specify it as follows:\n",
      "   from Bio import Entrez\n",
      "   Entrez.email = 'A.N.Other@example.com'\n",
      "In case of excessive usage of the E-utilities, NCBI will attempt to contact\n",
      "a user at the email address provided before blocking access to the\n",
      "E-utilities.\n",
      "  warnings.warn(\n",
      "/groups/itay_mayrose/halabikeren/miniconda3/envs/ppn/lib/python3.10/site-packages/Bio/Entrez/__init__.py:658: UserWarning: \n",
      "Email address is not specified.\n",
      "\n",
      "To make use of NCBI's E-utilities, NCBI requires you to specify your\n",
      "email address with each request.  As an example, if your email address\n",
      "is A.N.Other@example.com, you can specify it as follows:\n",
      "   from Bio import Entrez\n",
      "   Entrez.email = 'A.N.Other@example.com'\n",
      "In case of excessive usage of the E-utilities, NCBI will attempt to contact\n",
      "a user at the email address provided before blocking access to the\n",
      "E-utilities.\n",
      "  warnings.warn(\n",
      "/groups/itay_mayrose/halabikeren/miniconda3/envs/ppn/lib/python3.10/site-packages/Bio/Entrez/__init__.py:658: UserWarning: \n",
      "Email address is not specified.\n",
      "\n",
      "To make use of NCBI's E-utilities, NCBI requires you to specify your\n",
      "email address with each request.  As an example, if your email address\n",
      "is A.N.Other@example.com, you can specify it as follows:\n",
      "   from Bio import Entrez\n",
      "   Entrez.email = 'A.N.Other@example.com'\n",
      "In case of excessive usage of the E-utilities, NCBI will attempt to contact\n",
      "a user at the email address provided before blocking access to the\n",
      "E-utilities.\n",
      "  warnings.warn(\n"
     ]
    }
   ],
   "source": [
    "ccdb_by_resolved_name = add_taxonomic_data(input_df=ccdb_by_resolved_name, input_col=\"resolved_name\", itis_db_dir=os.path.dirname(resolved_ccdb_path))\n",
    "# ccdb_by_resolved_name.to_csv(resolved_ccdb_path, index=False)"
   ]
  },
  {
   "cell_type": "code",
   "execution_count": null,
   "id": "77f78724-bbbd-4a24-acb7-d86c4d61bd3b",
   "metadata": {},
   "outputs": [],
   "source": []
  }
 ],
 "metadata": {
  "kernelspec": {
   "display_name": "Python 3 (ipykernel)",
   "language": "python",
   "name": "python3"
  },
  "language_info": {
   "codemirror_mode": {
    "name": "ipython",
    "version": 3
   },
   "file_extension": ".py",
   "mimetype": "text/x-python",
   "name": "python",
   "nbconvert_exporter": "python",
   "pygments_lexer": "ipython3",
   "version": "3.10.4"
  }
 },
 "nbformat": 4,
 "nbformat_minor": 5
}
