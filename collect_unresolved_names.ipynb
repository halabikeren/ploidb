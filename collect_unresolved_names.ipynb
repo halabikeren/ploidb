{
 "cells": [
  {
   "cell_type": "code",
   "execution_count": 3,
   "id": "3b123480-63e2-42cf-99d5-30c71e91ea28",
   "metadata": {},
   "outputs": [],
   "source": [
    "ploidb_dir = \"/groups/itay_mayrose/halabikeren/PloiDB/\"\n",
    "tree_1_path = f\"{ploidb_dir}trees/ALLMB.tre\"\n",
    "tree_2_path = f\"{ploidb_dir}/trees/ALLOTB.tre\"\n",
    "ccdb_data_path = f\"{ploidb_dir}/ccdb/all_data.csv\"\n",
    "\n",
    "tree_names_path = f\"{ploidb_dir}/names_resolution/trees_unresolved_names.csv\"\n",
    "ccdb_names_path = f\"{ploidb_dir}/names_resolution/ccdb_unresolved_names.csv\"\n",
    "all_names_path = f\"{ploidb_dir}/names_resolution/unresolved_names_with_source.csv\"\n",
    "only_names_path = f\"{ploidb_dir}/names_resolution/unresolved_names.csv\""
   ]
  },
  {
   "cell_type": "code",
   "execution_count": 2,
   "id": "5873072c-ff0d-45f3-9d51-8be4deb61e60",
   "metadata": {},
   "outputs": [
    {
     "name": "stderr",
     "output_type": "stream",
     "text": [
      "/groups/itay_mayrose/halabikeren/miniconda3/envs/ppn/lib/python3.10/site-packages/ete3-3.1.2-py3.7.egg/ete3/evol/parser/codemlparser.py:221: SyntaxWarning: \"is\" with a literal. Did you mean \"==\"?\n",
      "/groups/itay_mayrose/halabikeren/miniconda3/envs/ppn/lib/python3.10/site-packages/ete3-3.1.2-py3.7.egg/ete3/evol/parser/codemlparser.py:221: SyntaxWarning: \"is\" with a literal. Did you mean \"==\"?\n"
     ]
    }
   ],
   "source": [
    "import pandas as pd\n",
    "from ete3 import Tree\n",
    "from typing import List"
   ]
  },
  {
   "cell_type": "code",
   "execution_count": 4,
   "id": "e881b3e8-6de3-4edc-b461-d218c592595b",
   "metadata": {},
   "outputs": [],
   "source": [
    "# extract unresolved names from the trees\n",
    "def get_tree_names(tree_path) -> List[str]:\n",
    "    tree = Tree(tree_path, format=1)\n",
    "    tree_leaf_names = [name.replace(\"_\",\" \").lower() for name in tree.get_leaf_names()]\n",
    "    return tree_leaf_names\n",
    "\n",
    "tree_1_names = get_tree_names(tree_path=tree_1_path)\n",
    "tree_2_names = get_tree_names(tree_path=tree_2_path)\n",
    "trees_names = list(set(tree_1_names + tree_2_names))"
   ]
  },
  {
   "cell_type": "code",
   "execution_count": 5,
   "id": "6aba9702-9286-4aff-acce-67c936183163",
   "metadata": {},
   "outputs": [],
   "source": [
    "# extract unresolved names from ccdb\n",
    "df = pd.read_csv(\"/groups/itay_mayrose/halabikeren/PloiDB/ccdb/all_data.csv\")\n",
    "ccdb_names = list(df.original_name.str.lower())"
   ]
  },
  {
   "cell_type": "code",
   "execution_count": 6,
   "id": "9e66db2c-9694-4e77-a6fa-47c2b7f6e674",
   "metadata": {},
   "outputs": [],
   "source": [
    "all_names = trees_names + ccdb_names\n",
    "all_names = pd.Series(all_names)\n",
    "all_names = all_names.unique()"
   ]
  },
  {
   "cell_type": "code",
   "execution_count": 7,
   "id": "cceb5c70-418f-4adf-a941-9a55866b5b20",
   "metadata": {},
   "outputs": [
    {
     "data": {
      "text/plain": [
       "517641"
      ]
     },
     "execution_count": 7,
     "metadata": {},
     "output_type": "execute_result"
    }
   ],
   "source": [
    "print(f\"# total names = {len(all_names)}\")"
   ]
  },
  {
   "cell_type": "code",
   "execution_count": 14,
   "id": "c4125842-11a6-42a9-b6cb-e4915fcb4ac8",
   "metadata": {},
   "outputs": [],
   "source": [
    "pd.DataFrame(all_names, columns=[\"species_name\"]).to_csv(only_names_path, index=False)\n",
    "pd.DataFrame(pd.Series(trees_names), columns=[\"species_name\"]).to_csv(tree_names_path, index=False)\n",
    "pd.DataFrame(pd.Series(ccdb_names), columns=[\"species_name\"]).to_csv(ccdb_names_path, index=False)\n",
    "df = pd.concat([pd.DataFrame({\"species_name\": ccdb_names, \"source\": \"ccdb\"}), \n",
    "                pd.DataFrame({\"species_name\": tree_1_names, \"source\": \"ALLMB_tree\"}),\n",
    "                pd.DataFrame({\"species_name\": tree_2_names, \"source\": \"ALLOTB_tree\"}),])\n",
    "df.to_csv(all_names_path, index=False)"
   ]
  }
 ],
 "metadata": {
  "kernelspec": {
   "display_name": "Python 3 (ipykernel)",
   "language": "python",
   "name": "python3"
  },
  "language_info": {
   "codemirror_mode": {
    "name": "ipython",
    "version": 3
   },
   "file_extension": ".py",
   "mimetype": "text/x-python",
   "name": "python",
   "nbconvert_exporter": "python",
   "pygments_lexer": "ipython3",
   "version": "3.10.4"
  }
 },
 "nbformat": 4,
 "nbformat_minor": 5
}
