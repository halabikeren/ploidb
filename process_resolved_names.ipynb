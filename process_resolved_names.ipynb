{
 "cells": [
  {
   "cell_type": "code",
   "execution_count": 2,
   "id": "dcaba3f0-6c1e-48fa-bbc0-f039191dece8",
   "metadata": {},
   "outputs": [],
   "source": [
    "name_resolution_dir = \"/groups/itay_mayrose/halabikeren/PloiDB/name_resolution/\"\n",
    "unresolved_names_path = f\"{name_resolution_dir}unresolved_names.csv\"\n",
    "resolved_names_gnr_all_path = f\"{name_resolution_dir}resolved_names_different_methods/gnr_all_resolved_names.csv\"\n",
    "\n",
    "resolved_names_gnr_wfo_path = f\"{name_resolution_dir}resolved_names_different_methods/gnr_wfo_resolved_names.csv\"\n",
    "retried_gnr_wfo_resolved_names_path = f\"{name_resolution_dir}resolved_names_different_methods/retried_gnr_wfo_resolved_names.csv\"\n",
    "\n",
    "resolved_names_r_wfo_path = f\"{name_resolution_dir}resolved_names_different_methods/r_wfo_resolved_names.csv\"\n",
    "retried_r_wfo_resolved_names_path = f\"{name_resolution_dir}resolved_names_different_methods/retried_r_wfo_resolved_names.csv\"\n",
    "\n",
    "resolved_names_tnrs_path = f\"{name_resolution_dir}resolved_names_different_methods/tnrs_all_resolved_names.csv\""
   ]
  },
  {
   "cell_type": "code",
   "execution_count": 1,
   "id": "6f236036-30ad-441f-9203-5af36308fb58",
   "metadata": {},
   "outputs": [],
   "source": [
    "import pandas as pd\n",
    "pd.set_option('display.max_colwidth', None)\n",
    "import numpy as np\n",
    "from typing import List\n",
    "from Levenshtein import distance as lev"
   ]
  },
  {
   "cell_type": "code",
   "execution_count": 3,
   "id": "a3a0f658-8c17-45be-bee8-fe2b85bfe53e",
   "metadata": {},
   "outputs": [
    {
     "name": "stderr",
     "output_type": "stream",
     "text": [
      "/tmp/ipykernel_28583/3949817972.py:21: DtypeWarning: Columns (25,29,38) have mixed types. Specify dtype option on import or set low_memory=False.\n",
      "  resolved_names = pd.read_csv(path)\n"
     ]
    }
   ],
   "source": [
    "def get_taxonomic_classification(row: pd.Series, rank: str):\n",
    "    if pd.isna(row.classification_path_ranks) or pd.isna(row.classification_path):\n",
    "        return np.nan\n",
    "    ordered_ranks = row.classification_path_ranks.lower().split(\"|\")\n",
    "    ordered_names = row.classification_path.lower().split(\"|\")\n",
    "    rank_index, rank_value = np.nan, np.nan\n",
    "    try:\n",
    "        rank_index = ordered_ranks.index(rank)\n",
    "        rank_value = ordered_names[rank_index]\n",
    "    except Exception as e:\n",
    "        if rank == 'species':\n",
    "            rank_value_components = ordered_names[-1].split(\" \")\n",
    "            rank_value = \" \".join(rank_value_components[:2])\n",
    "        else:\n",
    "            pass\n",
    "    return rank_value\n",
    "\n",
    "\n",
    "def process_resolved_names(path: str) -> pd.DataFrame:\n",
    "    resolved_names = pd.read_csv(path)\n",
    "    resolved_names.dropna(subset=[\"query\"], inplace=True)\n",
    "    resolved_names[\"query\"] = resolved_names[\"query\"].str.lower()\n",
    "    resolved_names.drop([col for col in resolved_names.columns if col.startswith(\"Unnamed\")], inplace=True, axis=1)\n",
    "    \n",
    "    # corrent resolved names of synonim matches based on the parallel accepted names, if available\n",
    "    if 'name_string' in resolved_names.columns:\n",
    "        resolved_names[\"matched_name\"].fillna(resolved_names[\"name_string\"].to_dict(), inplace=True)\n",
    "        name_string_to_matched_name = resolved_names.loc[resolved_names.orig_status == \"ACCEPTED\"].set_index(\"name_string\")[\"matched_name\"].to_dict()\n",
    "        resolved_names[\"matched_name\"] = resolved_names[[\"name_string\", \"matched_name\"]].apply(lambda row: name_string_to_matched_name[row.matched_name] if row.matched_name in name_string_to_matched_name else row.matched_name, axis=1)\n",
    "    resolved_names.matched_name = resolved_names.matched_name.str.lower()\n",
    "\n",
    "    # extract the taxonomic rank of the resolved name\n",
    "    resolved_names.taxon_rank = resolved_names.taxon_rank.str.lower()\n",
    "    resolved_names.taxon_rank = resolved_names.taxon_rank.replace({'spec.': 'species', 'gen.': 'genus', 'f.': 'form', 'var.': 'variety'})\n",
    "    if 'classification_path_ranks' in resolved_names.columns:\n",
    "        resolved_names.classification_path_ranks = resolved_names.classification_path_ranks.apply(lambda x: x.replace('spec.','species').replace('gen.','genus').replace('f.', 'form').replace('var.', 'variety') if pd.notna(x) else np.nan)\n",
    "        # collapse taxonomic levels lower than species to a species level, namely: 'subspecies', 'variety', 'subvariety', 'form'\n",
    "        resolved_names.loc[resolved_names.taxon_rank.isin(['subspecies', 'variety', 'subvariety', 'form']), \"matched_name\"] = resolved_names.loc[resolved_names.taxon_rank.isin(['subspecies', 'variety', 'subvariety', 'form'])].apply(lambda row: get_taxonomic_classification(row, rank=\"species\"), axis=1)\n",
    "        resolved_names.loc[resolved_names.taxon_rank.isin(['subspecies', 'variety', 'subvariety', 'form']), \"taxon_rank\"] = \"species\"\n",
    "        \n",
    "    resolved_names.dropna(subset=\"matched_name\", inplace=True)\n",
    "    return resolved_names"
   ]
  },
  {
   "cell_type": "code",
   "execution_count": null,
   "id": "fcb7888b-55d1-4276-88b5-c07708606a68",
   "metadata": {},
   "outputs": [],
   "source": [
    "unresolved_names = pd.read_csv(unresolved_names_path)\n",
    "resolved_names_gnr_all = process_resolved_names(path=resolved_names_gnr_all_path)\n",
    "resolved_names_gnr_wfo = process_resolved_names(path=resolved_names_gnr_wfo_path)\n",
    "resolved_names_r_wfo = process_resolved_names(path=resolved_names_r_wfo_path)\n",
    "resolved_names_tnrs = process_resolved_names(path=resolved_names_tnrs_path)"
   ]
  },
  {
   "cell_type": "code",
   "execution_count": 4,
   "id": "12bcd3ac-402f-4c80-b423-d0182f618736",
   "metadata": {},
   "outputs": [
    {
     "name": "stdout",
     "output_type": "stream",
     "text": [
      "% resolved names by GNR(ALL) = 95.27% (493138/517641)\n",
      "% resolved names by GNR(WFO) = 99.24% (513692/517641)\n",
      "% resolved names by R(WFO) = 96.31% (498533/517641)\n",
      "% resolved names by TNRS = 68.69% (355545/517641)\n"
     ]
    }
   ],
   "source": [
    "print(f\"% resolved names by GNR(ALL) = {np.round(resolved_names_gnr_all.shape[0]/unresolved_names.shape[0]*100,2)}% ({resolved_names_gnr_all.shape[0]}/{unresolved_names.shape[0]})\")\n",
    "print(f\"% resolved names by GNR(WFO) = {np.round(resolved_names_gnr_wfo.shape[0]/unresolved_names.shape[0]*100,2)}% ({resolved_names_gnr_wfo.shape[0]}/{unresolved_names.shape[0]})\")\n",
    "print(f\"% resolved names by R(WFO) = {np.round(resolved_names_r_wfo.shape[0]/unresolved_names.shape[0]*100,2)}% ({resolved_names_r_wfo.shape[0]}/{unresolved_names.shape[0]})\")\n",
    "print(f\"% resolved names by TNRS = {np.round(resolved_names_tnrs.shape[0]/unresolved_names.shape[0]*100,2)}% ({resolved_names_tnrs.shape[0]}/{unresolved_names.shape[0]})\")"
   ]
  },
  {
   "cell_type": "code",
   "execution_count": 6,
   "id": "c1dcb133-e6b0-4ca7-834e-c37c8b1596f4",
   "metadata": {},
   "outputs": [],
   "source": [
    "gnr_all_matches = resolved_names_gnr_all[[\"query\", \"matched_name\", \"taxon_rank\", \"name_sources\", \"orig_status\"]].rename(columns={\"matched_name\": \"gnr_all_matched_name\", \"taxon_rank\": \"gnr_all_taxon_rank\", \"name_sources\": \"gnr_all_name_sources\", \"orig_status\": \"gnr_all_orig_status\"})\n",
    "gnr_wfo_matches = resolved_names_gnr_wfo[[\"query\", \"matched_name\", \"taxon_rank\", \"name_sources\", \"orig_status\"]].rename(columns={\"matched_name\": \"gnr_wfo_matched_name\", \"taxon_rank\": \"gnr_wfo_taxon_rank\", \"name_sources\": \"gnr_wfo_name_sources\", \"orig_status\": \"gnr_wfo_orig_status\"})\n",
    "r_wfo_matches = resolved_names_r_wfo[[\"query\", \"matched_name\", \"taxon_rank\", \"name_sources\", \"orig_status\"]].rename(columns={\"matched_name\": \"r_wfo_matched_name\", \"taxon_rank\": \"r_wfo_taxon_rank\", \"name_sources\": \"r_wfo_name_sources\", \"orig_status\": \"r_wfo_orig_status\"})\n",
    "tnrs_matches = resolved_names_tnrs[[\"query\", \"matched_name\", \"taxon_rank\", \"name_sources\", \"orig_status\"]].rename(columns={\"matched_name\": \"tnrs_matched_name\", \"taxon_rank\": \"tnrs_taxon_rank\", \"name_sources\": \"tnrs_name_sources\", \"orig_status\": \"tnrs_orig_status\"})\n",
    "\n",
    "contradictions = gnr_all_matches.merge(gnr_wfo_matches, on=\"query\", how=\"outer\").merge(r_wfo_matches, on=\"query\", how=\"outer\").merge(tnrs_matches, on=\"query\", how=\"outer\")\n",
    "contradictions = contradictions.loc[contradictions[\"query\"].isin((unresolved_names['species_name'].unique()))]\n",
    "contradictions.dropna(subset=[\"gnr_all_matched_name\", \"gnr_wfo_matched_name\", \"r_wfo_matched_name\", \"tnrs_matched_name\"], how=\"any\", inplace=True)"
   ]
  },
  {
   "cell_type": "code",
   "execution_count": 7,
   "id": "0e266b49-67cb-4bf0-8ea4-0a5dd1608f07",
   "metadata": {},
   "outputs": [
    {
     "name": "stdout",
     "output_type": "stream",
     "text": [
      "% names with contradicated matches = 63.69%\n",
      "% names with contradicated matches across GNR(WFO) and GNR(ALL) = 18.79%\n",
      "% names with contradicated matches across GNR(WFO) and R(WFO) = 9.85%\n",
      "% names with contradicated matches across GNR(ALL) and TNRS = 8.0%\n",
      "% names with contradicated matches across GNR(ALL) and R(WFO) = 20.65%\n",
      "% names with contradicated matches across GNR(WFO) and TNRS = 20.81%\n",
      "% names with contradicated matches across R(WFO) and TNRS = 20.48%\n"
     ]
    }
   ],
   "source": [
    "print(f\"% names with contradicated matches = {np.round(len(contradictions['query'].unique())/unresolved_names.shape[0]*100, 2)}%\")\n",
    "print(f\"% names with contradicated matches across GNR(WFO) and GNR(ALL) = {np.round(len(contradictions.loc[contradictions.gnr_all_matched_name != contradictions.gnr_wfo_matched_name]['query'].unique())/contradictions.shape[0]*100, 2)}%\")\n",
    "print(f\"% names with contradicated matches across GNR(WFO) and R(WFO) = {np.round(len(contradictions.loc[contradictions.r_wfo_matched_name != contradictions.gnr_wfo_matched_name]['query'].unique())/contradictions.shape[0]*100, 2)}%\")\n",
    "print(f\"% names with contradicated matches across GNR(ALL) and TNRS = {np.round(len(contradictions.loc[contradictions.gnr_all_matched_name != contradictions.tnrs_matched_name]['query'].unique())/contradictions.shape[0]*100, 2)}%\")\n",
    "print(f\"% names with contradicated matches across GNR(ALL) and R(WFO) = {np.round(len(contradictions.loc[contradictions.gnr_all_matched_name != contradictions.r_wfo_matched_name]['query'].unique())/contradictions.shape[0]*100, 2)}%\")\n",
    "print(f\"% names with contradicated matches across GNR(WFO) and TNRS = {np.round(len(contradictions.loc[contradictions.gnr_wfo_matched_name != contradictions.tnrs_matched_name]['query'].unique())/contradictions.shape[0]*100, 2)}%\")\n",
    "print(f\"% names with contradicated matches across R(WFO) and TNRS = {np.round(len(contradictions.loc[contradictions.r_wfo_matched_name != contradictions.tnrs_matched_name]['query'].unique())/contradictions.shape[0]*100, 2)}%\")"
   ]
  },
  {
   "cell_type": "code",
   "execution_count": 8,
   "id": "9e386ea3-d134-47c1-8042-300e75162dcc",
   "metadata": {},
   "outputs": [
    {
     "name": "stdout",
     "output_type": "stream",
     "text": [
      "%genus matches reported by GNR(WFO) = 3.16%\n",
      "%genus matches reported by GNR(ALL) = 0.4%\n",
      "%genus matches reported by R(WFO) = 0.09%\n",
      "%genus matches reported by TNRS = 0.0%\n",
      "\n",
      "%species matches reported by GNR(WFO) = 96.83%\n",
      "%species matches reported by GNR(ALL) = 42.02%\n",
      "%species matches reported by R(WFO) = 95.17%\n",
      "%species matches reported by TNRS = 97.41%\n",
      "\n",
      "%missing ranks matches reported by GNR(WFO) = 0.0%\n",
      "%missing ranks matches reported by GNR(ALL) = 56.98%\n",
      "%missing ranks matches reported by R(WFO) = 0.0%\n",
      "%missing ranks matches reported by TNRS = 0.0%\n"
     ]
    }
   ],
   "source": [
    "print(f\"%genus matches reported by GNR(WFO) = {np.round(resolved_names_gnr_wfo.loc[resolved_names_gnr_wfo.taxon_rank == 'genus'].shape[0] / resolved_names_gnr_wfo.shape[0]*100, 2)}%\")\n",
    "print(f\"%genus matches reported by GNR(ALL) = {np.round(resolved_names_gnr_all.loc[resolved_names_gnr_all.taxon_rank == 'genus'].shape[0] / resolved_names_gnr_all.shape[0]*100, 2)}%\")\n",
    "print(f\"%genus matches reported by R(WFO) = {np.round(resolved_names_r_wfo.loc[resolved_names_r_wfo.taxon_rank == 'genus'].shape[0] / resolved_names_r_wfo.shape[0]*100, 2)}%\")\n",
    "print(f\"%genus matches reported by TNRS = {np.round(resolved_names_tnrs.loc[resolved_names_tnrs.taxon_rank == 'genus'].shape[0] / resolved_names_tnrs.shape[0]*100, 2)}%\\n\")\n",
    "\n",
    "print(f\"%species matches reported by GNR(WFO) = {np.round(resolved_names_gnr_wfo.loc[resolved_names_gnr_wfo.taxon_rank == 'species'].shape[0] / resolved_names_gnr_wfo.shape[0]*100, 2)}%\")\n",
    "print(f\"%species matches reported by GNR(ALL) = {np.round(resolved_names_gnr_all.loc[resolved_names_gnr_all.taxon_rank == 'species'].shape[0] / resolved_names_gnr_all.shape[0]*100, 2)}%\")\n",
    "print(f\"%species matches reported by R(WFO) = {np.round(resolved_names_r_wfo.loc[resolved_names_r_wfo.taxon_rank == 'species'].shape[0] / resolved_names_r_wfo.shape[0]*100, 2)}%\")\n",
    "print(f\"%species matches reported by TNRS = {np.round(resolved_names_tnrs.loc[resolved_names_tnrs.taxon_rank == 'species'].shape[0] / resolved_names_tnrs.shape[0]*100, 2)}%\\n\")\n",
    "\n",
    "print(f\"%missing ranks matches reported by GNR(WFO) = {np.round(resolved_names_gnr_wfo.loc[resolved_names_gnr_wfo.taxon_rank.isna()].shape[0] / resolved_names_gnr_wfo.shape[0]*100, 2)}%\")\n",
    "print(f\"%missing ranks matches reported by GNR(ALL) = {np.round(resolved_names_gnr_all.loc[resolved_names_gnr_all.taxon_rank.isna()].shape[0] / resolved_names_gnr_all.shape[0]*100, 2)}%\")\n",
    "print(f\"%missing ranks matches reported by R(WFO) = {np.round(resolved_names_r_wfo.loc[resolved_names_r_wfo.taxon_rank.isna()].shape[0] / resolved_names_r_wfo.shape[0]*100, 2)}%\")\n",
    "print(f\"%missing ranks matches reported by TNRS = {np.round(resolved_names_tnrs.loc[resolved_names_tnrs.taxon_rank.isna()].shape[0] / resolved_names_tnrs.shape[0]*100, 2)}%\")"
   ]
  },
  {
   "cell_type": "code",
   "execution_count": 9,
   "id": "1b6d9d58-da99-4aa6-a1ba-785e5473eb27",
   "metadata": {},
   "outputs": [
    {
     "name": "stdout",
     "output_type": "stream",
     "text": [
      "mean lev dist between queries and GNR(WFO) matches = 0.329\n",
      "mean lev dist between queries and R(WFO) matches = 0.329\n"
     ]
    }
   ],
   "source": [
    "def first_two_match(n1: str, n2: str):\n",
    "    n1_components = n1.lower().split(\" \")\n",
    "    n2_components = n2.lower().split(\" \")\n",
    "    if len(n1_components) > 1 and len(n2_components) > 1:\n",
    "        return n1_components[0] == n2_components[0] and n1_components[1] == n2_components[1]\n",
    "    return n1_components[0] == n2_components[0]\n",
    "\n",
    "def get_lev_dist(n1: str, n2: str):\n",
    "    n1_components = \" \".join(n1.lower().split(\" \")[:2])\n",
    "    n2_components = \" \".join(n2.lower().split(\" \")[:2])\n",
    "    d = lev(n1_components, n2_components) / max([len(n1_components), len(n2_components)])\n",
    "    return d\n",
    "\n",
    "gnr_wfo_r_wfo_contradictions = contradictions.loc[contradictions.r_wfo_matched_name != contradictions.gnr_wfo_matched_name][[\"query\", \"r_wfo_matched_name\", \"r_wfo_taxon_rank\", \"r_wfo_orig_status\", \"gnr_wfo_matched_name\", \"gnr_wfo_taxon_rank\", \"gnr_wfo_orig_status\"]]\n",
    "gnr_wfo_r_wfo_contradictions[\"first_two_match\"] =  gnr_wfo_r_wfo_contradictions.apply(lambda row: first_two_match(n1=row[\"r_wfo_matched_name\"], n2=row[\"gnr_wfo_matched_name\"]), axis=1)\n",
    "\n",
    "gnr_wfo_r_wfo_contradictions[\"r_wfo_query_lev_dist\"] = gnr_wfo_r_wfo_contradictions.apply(lambda row: get_lev_dist(n1=row[\"query\"], n2=row[\"r_wfo_matched_name\"]), axis=1)\n",
    "gnr_wfo_r_wfo_contradictions[\"gnr_wfo_query_lev_dist\"] = gnr_wfo_r_wfo_contradictions.apply(lambda row: get_lev_dist(n1=row[\"query\"], n2=row[\"gnr_wfo_matched_name\"]), axis=1)\n",
    "\n",
    "print(f\"mean lev dist between queries and GNR(WFO) matches = {np.round(np.mean(gnr_wfo_r_wfo_contradictions.gnr_wfo_query_lev_dist), 3)}\")\n",
    "print(f\"mean lev dist between queries and R(WFO) matches = {np.round(np.mean(gnr_wfo_r_wfo_contradictions.r_wfo_query_lev_dist), 3)}\")"
   ]
  },
  {
   "cell_type": "code",
   "execution_count": 12,
   "id": "46be0300-53bf-42a3-b4d2-6d14bd10b85a",
   "metadata": {},
   "outputs": [
    {
     "name": "stdout",
     "output_type": "stream",
     "text": [
      "R(WFO):\n",
      "% names that were originally synonyms = 0.0%\n",
      "% names that were originally accepted = 95.41%\n",
      "\n",
      "GNR(WFO):\n",
      "% names that were originally synonyms = 19.77%\n",
      "% names that were originally accepted = 80.23%\n",
      "\n",
      "GNR(ALL):\n",
      "% names that were originally synonyms = 7.56%\n",
      "% names that were originally accepted = 92.44%\n",
      "\n",
      "TNRS:\n",
      "% names that were originally synonyms = 7.26%\n",
      "% names that were originally accepted = 92.74%\n"
     ]
    }
   ],
   "source": [
    "print(f\"R(WFO):\")\n",
    "print(f\"% names that were originally synonyms = {np.round(resolved_names_r_wfo.loc[(resolved_names_r_wfo.orig_status == 'SYNONYM')].shape[0]/resolved_names_r_wfo.shape[0]*100, 2)}%\")\n",
    "print(f\"% names that were originally accepted = {np.round(resolved_names_r_wfo.loc[resolved_names_r_wfo.orig_status == 'ACCEPTED'].shape[0]/resolved_names_r_wfo.shape[0]*100, 2)}%\")\n",
    "\n",
    "print(f\"\\nGNR(WFO):\")\n",
    "print(f\"% names that were originally synonyms = {np.round(resolved_names_gnr_wfo.loc[(resolved_names_gnr_wfo.orig_status == 'SYNONYM')].shape[0]/resolved_names_gnr_wfo.shape[0]*100, 2)}%\")\n",
    "print(f\"% names that were originally accepted = {np.round(resolved_names_gnr_wfo.loc[resolved_names_gnr_wfo.orig_status == 'ACCEPTED'].shape[0]/resolved_names_gnr_wfo.shape[0]*100, 2)}%\")\n",
    "\n",
    "print(f\"\\nGNR(ALL):\")\n",
    "print(f\"% names that were originally synonyms = {np.round(resolved_names_gnr_all.loc[(resolved_names_gnr_all.orig_status == 'SYNONYM')].shape[0]/resolved_names_gnr_all.shape[0]*100, 2)}%\")\n",
    "print(f\"% names that were originally accepted = {np.round(resolved_names_gnr_all.loc[resolved_names_gnr_all.orig_status == 'ACCEPTED'].shape[0]/resolved_names_gnr_all.shape[0]*100, 2)}%\")\n",
    "\n",
    "print(f\"\\nTNRS:\")\n",
    "print(f\"% names that were originally synonyms = {np.round(resolved_names_tnrs.loc[(resolved_names_tnrs.orig_status == 'SYNONYM')].shape[0]/resolved_names_tnrs.shape[0]*100, 2)}%\")\n",
    "print(f\"% names that were originally accepted = {np.round(resolved_names_tnrs.loc[resolved_names_tnrs.orig_status == 'ACCEPTED'].shape[0]/resolved_names_tnrs.shape[0]*100, 2)}%\")"
   ]
  },
  {
   "cell_type": "code",
   "execution_count": 18,
   "id": "0c0686b5-9039-4259-88fa-551506e9269e",
   "metadata": {},
   "outputs": [],
   "source": [
    "# determined winnder - GNR(WFO)\n",
    "df1 = resolved_names_gnr_wfo[[\"query\", \"matched_name\", \"classification_path_ranks\", \"classification_path\"]]\n",
    "df2 = process_resolved_names(retried_gnr_wfo_resolved_names_path)[[\"query\", \"matched_name\", \"classification_path_ranks\", \"classification_path\"]]\n",
    "resolved_names = pd.concat([df1, df2])"
   ]
  },
  {
   "cell_type": "code",
   "execution_count": 19,
   "id": "57f54df7-523f-4fd8-90a1-5c4bc1034dde",
   "metadata": {},
   "outputs": [],
   "source": [
    "resolved_names[\"genus\"] = resolved_names.apply(lambda row: get_taxonomic_classification(row, rank=\"genus\"), axis=1)\n",
    "resolved_names[\"family\"] = resolved_names.apply(lambda row: get_taxonomic_classification(row, rank=\"family\"), axis=1)"
   ]
  },
  {
   "cell_type": "code",
   "execution_count": 21,
   "id": "b03df428-2a5b-43e9-8dfc-310c914b608d",
   "metadata": {},
   "outputs": [],
   "source": [
    "df3 = process_resolved_names(retried_r_wfo_resolved_names_path)[[\"query\", \"matched_name\", \"genus\", \"family\"]]\n",
    "resolved_names = pd.concat([resolved_names[[\"query\", \"matched_name\", \"genus\", \"family\"]], df3.loc[(~df3['query'].isin(resolved_names['query'])) & (df3.matched_name.notna())]])"
   ]
  },
  {
   "cell_type": "code",
   "execution_count": 22,
   "id": "95e86517-883a-4ea9-bbda-5be929febb66",
   "metadata": {},
   "outputs": [],
   "source": [
    "resolved_names.loc[resolved_names.family.isna(), \"genus\"] = resolved_names.loc[resolved_names.family.isna(), \"matched_name\"].apply(lambda name: name.split(\" \")[0])"
   ]
  },
  {
   "cell_type": "code",
   "execution_count": 23,
   "id": "ff677125-5949-4070-b974-a1c1a413d2ad",
   "metadata": {},
   "outputs": [],
   "source": [
    "resolved_vs_unresolved = unresolved_names.merge(resolved_names, left_on=\"species_name\", right_on=\"query\", how=\"left\")\n",
    "missing_names = resolved_vs_unresolved.loc[resolved_vs_unresolved.matched_name.isna()].species_name.unique()\n",
    "complementary_gnr_all_data = resolved_names_gnr_all.loc[resolved_names_gnr_all['query'].isin(missing_names)][[\"query\", \"matched_name\", \"classification_path_ranks\", \"classification_path\"]]\n",
    "complementary_gnr_all_data[\"genus\"] = complementary_gnr_all_data.apply(lambda row: get_taxonomic_classification(row, rank=\"genus\"), axis=1)\n",
    "complementary_gnr_all_data[\"family\"] = complementary_gnr_all_data.apply(lambda row: get_taxonomic_classification(row, rank=\"family\"), axis=1)"
   ]
  },
  {
   "cell_type": "code",
   "execution_count": 27,
   "id": "e235ae57-c027-4df8-82e8-0176abb76aae",
   "metadata": {},
   "outputs": [],
   "source": [
    "resolved_names = pd.concat([resolved_names, complementary_gnr_all_data[[\"query\", \"matched_name\", \"genus\", \"family\"]]])"
   ]
  },
  {
   "cell_type": "code",
   "execution_count": 28,
   "id": "03e39330-aaeb-45fc-93da-42106f37e201",
   "metadata": {},
   "outputs": [],
   "source": [
    "# quick test\n",
    "ccdb_unresolved_names = pd.read_csv(\"./ccdb_unresolved_names.csv\")\n",
    "trees_unresolved_names = pd.read_csv(\"./trees_unresolved_names.csv\")\n",
    "ccdb_data = pd.read_csv(\"/groups/itay_mayrose/halabikeren/PloiDB/ccdb/all_data.csv\")"
   ]
  },
  {
   "cell_type": "code",
   "execution_count": 29,
   "id": "d585b114-db7d-47d7-aad2-c795231f7421",
   "metadata": {},
   "outputs": [
    {
     "name": "stdout",
     "output_type": "stream",
     "text": [
      "%unresolved ccdb names = 0.02% (83 names)\n",
      "%unresolved trees names = 0.03% (118 names)\n",
      "%unresvoled names in total = 0.04% (187 names)\n"
     ]
    }
   ],
   "source": [
    "print(f\"%unresolved ccdb names = {np.round(ccdb_unresolved_names.loc[~ccdb_unresolved_names.species_name.isin(resolved_names['query'].unique())].shape[0]/ccdb_unresolved_names.shape[0]*100,2)}% ({ccdb_unresolved_names.loc[~ccdb_unresolved_names.species_name.isin(resolved_names['query'].unique())].shape[0]} names)\")\n",
    "print(f\"%unresolved trees names = {np.round(trees_unresolved_names.loc[~trees_unresolved_names.species_name.isin(resolved_names['query'].unique())].shape[0]/trees_unresolved_names.shape[0]*100,2)}% ({trees_unresolved_names.loc[~trees_unresolved_names.species_name.isin(resolved_names['query'].unique())].shape[0]} names)\")\n",
    "print(f\"%unresvoled names in total = {np.round(unresolved_names.loc[~unresolved_names.species_name.isin(resolved_names['query'].unique())].shape[0]/unresolved_names.shape[0]*100,2)}% ({unresolved_names.loc[~unresolved_names.species_name.isin(resolved_names['query'].unique())].shape[0]} names)\")"
   ]
  },
  {
   "cell_type": "code",
   "execution_count": 30,
   "id": "1ec1843e-9231-4cad-93c7-cf26763a3e3f",
   "metadata": {},
   "outputs": [
    {
     "name": "stdout",
     "output_type": "stream",
     "text": [
      "% reported matched at genus level before fixing as per R(WFO) = 3.15%\n",
      "% reported matched at genus level after fixing per R(WFO) = 0.07%\n"
     ]
    }
   ],
   "source": [
    "print(f\"% reported matched at genus level before fixing as per R(WFO) = {np.round(resolved_names.loc[~resolved_names.matched_name.str.contains(' ')].shape[0] / resolved_names.shape[0]*100, 2)}%\")\n",
    "genera_matches = resolved_names.loc[~resolved_names.matched_name.str.contains(\" \"), \"query\"].unique()\n",
    "wfo_complementary_matches = resolved_names_r_wfo.loc[(resolved_names_r_wfo['query'].isin(genera_matches)) & (resolved_names_r_wfo.matched_name.notna())].set_index(\"query\")[\"matched_name\"].to_dict()\n",
    "resolved_names.loc[~resolved_names.matched_name.str.contains(\" \"), \"matched_name\"] = resolved_names.loc[~resolved_names.matched_name.str.contains(\" \"), \"query\"].apply(lambda q: wfo_complementary_matches[q] if q in wfo_complementary_matches else q)\n",
    "print(f\"% reported matched at genus level after fixing per R(WFO) = {np.round(resolved_names.loc[~resolved_names.matched_name.str.contains(' ')].shape[0] / resolved_names.shape[0]*100, 2)}%\")"
   ]
  },
  {
   "cell_type": "code",
   "execution_count": 31,
   "id": "fef35440-0a60-47e9-8e55-539a0310db6d",
   "metadata": {},
   "outputs": [],
   "source": [
    "processed_resolved_names = resolved_names[[\"query\", \"matched_name\", \"genus\", \"family\"]]"
   ]
  },
  {
   "cell_type": "code",
   "execution_count": 32,
   "id": "7974f90f-d788-44cd-95e4-ef5c81f7c25f",
   "metadata": {},
   "outputs": [],
   "source": [
    "query_to_source = pd.read_csv(\"./unresolved_names_with_source.csv\").set_index(\"species_name\")[\"source\"].to_dict()\n",
    "processed_resolved_names[\"query_source\"] = np.nan\n",
    "processed_resolved_names.set_index(\"query\", inplace=True)\n",
    "processed_resolved_names[\"query_source\"].fillna(value=query_to_source, inplace=True)\n",
    "processed_resolved_names.reset_index(inplace=True)\n",
    "processed_resolved_names.to_csv(\"./processed_resolved_names.csv\")"
   ]
  }
 ],
 "metadata": {
  "kernelspec": {
   "display_name": "Python 3 (ipykernel)",
   "language": "python",
   "name": "python3"
  },
  "language_info": {
   "codemirror_mode": {
    "name": "ipython",
    "version": 3
   },
   "file_extension": ".py",
   "mimetype": "text/x-python",
   "name": "python",
   "nbconvert_exporter": "python",
   "pygments_lexer": "ipython3",
   "version": "3.10.4"
  }
 },
 "nbformat": 4,
 "nbformat_minor": 5
}
