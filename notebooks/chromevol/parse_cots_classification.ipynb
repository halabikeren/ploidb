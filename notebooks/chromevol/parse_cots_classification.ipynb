{
 "cells": [
  {
   "cell_type": "code",
   "execution_count": 1,
   "id": "f6c4d755-41c3-46d9-91d9-193b01b70a36",
   "metadata": {},
   "outputs": [],
   "source": [
    "import pandas as pd\n",
    "import numpy as np"
   ]
  },
  {
   "cell_type": "code",
   "execution_count": 25,
   "id": "b38398b1-55a2-4127-b7b8-59875cfe0668",
   "metadata": {},
   "outputs": [],
   "source": [
    "cot_to_order_df = pd.read_excel(\"../chromevol/results/TableS10_Rice.xlsx\", \n",
    "                                header=1)"
   ]
  },
  {
   "cell_type": "code",
   "execution_count": 26,
   "id": "cc8999c9-bb51-436a-9520-c0628851e301",
   "metadata": {},
   "outputs": [],
   "source": [
    "cot_to_order_df = cot_to_order_df.fillna(method='ffill')"
   ]
  },
  {
   "cell_type": "code",
   "execution_count": 27,
   "id": "c7e5bb62-a7ac-4b82-9e4d-b1481ff39a7e",
   "metadata": {},
   "outputs": [
    {
     "data": {
      "text/html": [
       "<div>\n",
       "<style scoped>\n",
       "    .dataframe tbody tr th:only-of-type {\n",
       "        vertical-align: middle;\n",
       "    }\n",
       "\n",
       "    .dataframe tbody tr th {\n",
       "        vertical-align: top;\n",
       "    }\n",
       "\n",
       "    .dataframe thead th {\n",
       "        text-align: right;\n",
       "    }\n",
       "</style>\n",
       "<table border=\"1\" class=\"dataframe\">\n",
       "  <thead>\n",
       "    <tr style=\"text-align: right;\">\n",
       "      <th></th>\n",
       "      <th>Major phylogeny groups according to Wood et al. 2009</th>\n",
       "      <th>Subgroup as indicated in NCBI taxonomy</th>\n",
       "      <th>Unnamed: 2</th>\n",
       "    </tr>\n",
       "  </thead>\n",
       "  <tbody>\n",
       "    <tr>\n",
       "      <th>0</th>\n",
       "      <td>Higher monocots (commelinids)</td>\n",
       "      <td>Arecales</td>\n",
       "      <td>NaN</td>\n",
       "    </tr>\n",
       "    <tr>\n",
       "      <th>1</th>\n",
       "      <td>Higher monocots (commelinids)</td>\n",
       "      <td>Poales</td>\n",
       "      <td>NaN</td>\n",
       "    </tr>\n",
       "    <tr>\n",
       "      <th>2</th>\n",
       "      <td>Higher monocots (commelinids)</td>\n",
       "      <td>Commelinales</td>\n",
       "      <td>NaN</td>\n",
       "    </tr>\n",
       "    <tr>\n",
       "      <th>3</th>\n",
       "      <td>Higher monocots (commelinids)</td>\n",
       "      <td>Zingiberales</td>\n",
       "      <td>NaN</td>\n",
       "    </tr>\n",
       "    <tr>\n",
       "      <th>4</th>\n",
       "      <td>Higher monocots (commelinids)</td>\n",
       "      <td>Dasypogonaceae</td>\n",
       "      <td>In the APG IV system, Dasypogonaceae is part o...</td>\n",
       "    </tr>\n",
       "  </tbody>\n",
       "</table>\n",
       "</div>"
      ],
      "text/plain": [
       "  Major phylogeny groups according to Wood et al. 2009  \\\n",
       "0                      Higher monocots (commelinids)     \n",
       "1                      Higher monocots (commelinids)     \n",
       "2                      Higher monocots (commelinids)     \n",
       "3                      Higher monocots (commelinids)     \n",
       "4                      Higher monocots (commelinids)     \n",
       "\n",
       "  Subgroup as indicated in NCBI taxonomy  \\\n",
       "0                               Arecales   \n",
       "1                                 Poales   \n",
       "2                           Commelinales   \n",
       "3                           Zingiberales   \n",
       "4                         Dasypogonaceae   \n",
       "\n",
       "                                          Unnamed: 2  \n",
       "0                                                NaN  \n",
       "1                                                NaN  \n",
       "2                                                NaN  \n",
       "3                                                NaN  \n",
       "4  In the APG IV system, Dasypogonaceae is part o...  "
      ]
     },
     "execution_count": 27,
     "metadata": {},
     "output_type": "execute_result"
    }
   ],
   "source": [
    "cot_to_order_df.head()"
   ]
  },
  {
   "cell_type": "code",
   "execution_count": 59,
   "id": "1f099697-faa9-4fc6-b74f-8f7e05dfa803",
   "metadata": {},
   "outputs": [
    {
     "name": "stderr",
     "output_type": "stream",
     "text": [
      "/groups/itay_mayrose/halabikeren/PloiDB/chromevol/results/ipykernel_188354/2113445257.py:1: ParserWarning: Falling back to the 'python' engine because the 'c' engine does not support regex separators (separators > 1 char and different from '\\s+' are interpreted as regex); you can avoid this warning by specifying engine='python'.\n",
      "  ncbi_lineage_df = pd.read_csv(\"/groups/itay_mayrose/halabikeren/PloiDB/chromevol/results/rankedlineage.dmp\",\n"
     ]
    }
   ],
   "source": [
    "ncbi_lineage_df = pd.read_csv(\"../chromevol/results/rankedlineage.dmp\", \n",
    "                             sep=\"\\t|\\t\")"
   ]
  },
  {
   "cell_type": "code",
   "execution_count": 60,
   "id": "64d64b05-44fc-48c5-90b7-684074ce4142",
   "metadata": {},
   "outputs": [],
   "source": [
    "ncbi_lineage_df.drop([c for c in ncbi_lineage_df.columns if \"|\" in c], axis=1, inplace=True)"
   ]
  },
  {
   "cell_type": "code",
   "execution_count": 61,
   "id": "f815aae0-30d1-4b48-92f5-25c01a39f24d",
   "metadata": {},
   "outputs": [],
   "source": [
    "ncbi_lineage_df.columns= [\"tax_id\", \"tax_name\", \"species\",\n",
    "                        \"genus\", \"family\", \"order\", \"class\",\n",
    "                        \"phylum\", \"kingdom\", \"superkingdom\"]"
   ]
  },
  {
   "cell_type": "code",
   "execution_count": 65,
   "id": "1e2af038-dbf8-44cc-8701-816866789e78",
   "metadata": {},
   "outputs": [],
   "source": [
    "cots_classification = ncbi_lineage_df.merge(cot_to_order_df, \n",
    "                                            left_on=\"order\", \n",
    "                                            right_on=\"Subgroup as indicated in NCBI taxonomy\", \n",
    "                                            how=\"inner\")"
   ]
  },
  {
   "cell_type": "code",
   "execution_count": 66,
   "id": "e3dc382e-a050-4f8b-ae30-0687af6f711b",
   "metadata": {},
   "outputs": [
    {
     "data": {
      "text/plain": [
       "tax_id                                                       0\n",
       "tax_name                                                     0\n",
       "species                                                 198166\n",
       "genus                                                    18324\n",
       "family                                                     598\n",
       "order                                                        0\n",
       "class                                                        0\n",
       "phylum                                                       0\n",
       "kingdom                                                      0\n",
       "superkingdom                                                 0\n",
       "Major phylogeny groups according to Wood et al. 2009         0\n",
       "Subgroup as indicated in NCBI taxonomy                       0\n",
       "Unnamed: 2                                               23168\n",
       "dtype: int64"
      ]
     },
     "execution_count": 66,
     "metadata": {},
     "output_type": "execute_result"
    }
   ],
   "source": [
    "cots_classification.isna().sum()"
   ]
  },
  {
   "cell_type": "code",
   "execution_count": 68,
   "id": "2b4d402f-18eb-4094-b7d6-2ddb8f4487ed",
   "metadata": {},
   "outputs": [],
   "source": [
    "cots_classification.to_csv(\"../chromevol/results/cots_classification/cots_classification.csv\", index=False)"
   ]
  }
 ],
 "metadata": {
  "kernelspec": {
   "display_name": "Python 3 (ipykernel)",
   "language": "python",
   "name": "python3"
  },
  "language_info": {
   "codemirror_mode": {
    "name": "ipython",
    "version": 3
   },
   "file_extension": ".py",
   "mimetype": "text/x-python",
   "name": "python",
   "nbconvert_exporter": "python",
   "pygments_lexer": "ipython3",
   "version": "3.10.6"
  }
 },
 "nbformat": 4,
 "nbformat_minor": 5
}