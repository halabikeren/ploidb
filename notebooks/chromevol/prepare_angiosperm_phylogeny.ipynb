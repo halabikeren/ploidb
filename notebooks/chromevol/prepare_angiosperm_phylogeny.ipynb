{
 "cells": [
  {
   "cell_type": "code",
   "execution_count": 1,
   "id": "c06fee89-a121-4f51-8a9b-ac7a953408ce",
   "metadata": {},
   "outputs": [],
   "source": [
    "import pandas as pd\n",
    "import numpy as np\n",
    "from ete3 import Tree, TreeStyle\n",
    "import zipfile\n",
    "import re\n",
    "import glob\n",
    "import shutil\n",
    "import os\n",
    "pd.set_option('mode.chained_assignment', None)\n",
    "from collections import Counter"
   ]
  },
  {
   "cell_type": "code",
   "execution_count": 6,
   "id": "a7bdd45b-59b3-4bc5-af69-d9579547ac1f",
   "metadata": {},
   "outputs": [],
   "source": [
    "full_tree_path = \"/groups/itay_mayrose/halabikeren/PloiDB/trees/resolved_ALLMB_name_resolution_on_ccdb_and_tree_with_added_ccdb_names_with_missing_from_ccdb.nwk\"\n",
    "wfo_classification_path = \"/groups/itay_mayrose/halabikeren/PloiDB/wfo_classification.txt\"\n",
    "tpl_classification_path = \"/groups/itay_mayrose/halabikeren/PloiDB/tpl.csv\"\n",
    "cots_classification_path = \"/groups/itay_mayrose/halabikeren/PloiDB/chromevol/results/cots_classification/cots_classification.csv\"\n",
    "ploidb_family_dir = \"/groups/itay_mayrose/halabikeren/PloiDB/chromevol/with_model_weighting/by_family_on_unresolved_ALLMB_and_unresolved_ccdb/\"\n",
    "family_tees_roots_path = \"/groups/itay_mayrose/halabikeren/PloiDB/trees/optimal_ALLMB_roots_for_family_partition.csv\""
   ]
  },
  {
   "cell_type": "markdown",
   "id": "19ba732e-3b76-406e-853a-50baef1339a1",
   "metadata": {
    "tags": []
   },
   "source": [
    "# process tree and classification data"
   ]
  },
  {
   "cell_type": "code",
   "execution_count": 3,
   "id": "796abaac-e37e-486e-8390-06b1b516bcc1",
   "metadata": {},
   "outputs": [
    {
     "name": "stdout",
     "output_type": "stream",
     "text": [
      "# leaves in tree = 375,581\n"
     ]
    }
   ],
   "source": [
    "full_tree = Tree(full_tree_path, format=1)\n",
    "i = 1\n",
    "for node in full_tree.traverse(\"postorder\"):\n",
    "    if node.name == \"1\":\n",
    "        node.name = f\"N{i}\"\n",
    "        i += 1\n",
    "print(f\"# leaves in tree = {len(full_tree.get_leaves()):,}\")"
   ]
  },
  {
   "cell_type": "code",
   "execution_count": 7,
   "id": "b7bd9c65-b483-4655-ae26-8f7e6ec70610",
   "metadata": {},
   "outputs": [
    {
     "name": "stderr",
     "output_type": "stream",
     "text": [
      "/tmp/ipykernel_31069/3961349054.py:1: DtypeWarning: Columns (2,8,9,10,12,13,14,15,16,20,21,23,24,28) have mixed types. Specify dtype option on import or set low_memory=False.\n",
      "  wfo_classification_data = pd.read_csv(wfo_classification_path, sep=\"\\t\")\n"
     ]
    }
   ],
   "source": [
    "wfo_classification_data = pd.read_csv(wfo_classification_path, sep=\"\\t\")\n",
    "tpl_classification_data = pd.read_csv(tpl_classification_path)\n",
    "wfo_accepted_classification_data = wfo_classification_data.query(\"taxonomicStatus == 'ACCEPTED'\")\n",
    "tpl_accepted_classification_data = tpl_classification_data.query(\"Status == 'Accepted'\")\n",
    "wfo_accepted_classification_data = wfo_classification_data.query(\"taxonomicStatus == 'ACCEPTED'\")\n",
    "tpl_accepted_classification_data = tpl_classification_data.query(\"Status == 'Accepted'\")\n",
    "tpl_accepted_classification_data = tpl_classification_data.query(\"Status == 'Accepted'\")\n",
    "diff = wfo_accepted_classification_data.shape[0] - tpl_accepted_classification_data.shape[0]\n",
    "classification_data = wfo_accepted_classification_data if diff > 50000 else tpl_accepted_classification_data\n",
    "relevant_classification_data = classification_data[[\"scientificName\", \"genus\", \"family\", \"majorGroup\"]].dropna(how=\"any\")\n",
    "for c in relevant_classification_data.columns:\n",
    "    relevant_classification_data[c] = relevant_classification_data[c].str.lower()\n",
    "angio_data = relevant_classification_data.query(\"majorGroup == 'a'\")"
   ]
  },
  {
   "cell_type": "code",
   "execution_count": 5,
   "id": "f9d5bfd1-dc91-4df7-bdfd-7df0b645ad32",
   "metadata": {},
   "outputs": [
    {
     "name": "stdout",
     "output_type": "stream",
     "text": [
      "# species to include = 67,153 out of 239 families\n"
     ]
    }
   ],
   "source": [
    "angio_families = angio_data.family.str.lower().unique().tolist()\n",
    "angio_avail_families = []\n",
    "angio_species = []\n",
    "for family in angio_families:\n",
    "    family_tree_path = f\"{ploidb_family_dir}{family}/tree.nwk\"\n",
    "    if os.path.exists(family_tree_path):\n",
    "        angio_avail_families.append(family)\n",
    "        angio_species += Tree(family_tree_path).get_leaf_names()\n",
    "print(f\"# species to include = {len(angio_species):,} out of {len(angio_avail_families):,} families\")"
   ]
  },
  {
   "cell_type": "markdown",
   "id": "d4bde3fe-d13d-4653-8743-86d4ee2d9151",
   "metadata": {
    "tags": []
   },
   "source": [
    "# prune tree to include only angiosperms"
   ]
  },
  {
   "cell_type": "code",
   "execution_count": 6,
   "id": "751f704a-5ed8-4a64-afdb-0970e59611ba",
   "metadata": {},
   "outputs": [
    {
     "name": "stdout",
     "output_type": "stream",
     "text": [
      "angiosperms in tree = 67,153\n"
     ]
    }
   ],
   "source": [
    "angiosperms_in_tree = set(full_tree.get_leaf_names()) & set(angio_species)\n",
    "print(f\"angiosperms in tree = {len(angiosperms_in_tree):,}\")\n",
    "full_tree.prune(angiosperms_in_tree, preserve_branch_length = True)"
   ]
  },
  {
   "cell_type": "markdown",
   "id": "280aff95-b7ec-4b81-abef-7433572255d0",
   "metadata": {
    "tags": []
   },
   "source": [
    "# find families MRCAs in the large angiosperms tree"
   ]
  },
  {
   "cell_type": "code",
   "execution_count": 8,
   "id": "995892df-c2c1-45de-ac7b-6ccc18e26d7c",
   "metadata": {},
   "outputs": [],
   "source": [
    "family_to_mrca = {}\n",
    "tax_to_family = {}\n",
    "for family in angio_avail_families:\n",
    "    family_members = Tree(f\"{ploidb_family_dir}/{family}/tree.nwk\").get_leaf_names()\n",
    "    for member in family_members:\n",
    "        tax_to_family[member] = family\n",
    "    family_to_mrca[family] = full_tree.get_common_ancestor(family_members)\n",
    "    assert(len(family_to_mrca[family].get_leaves())>=len(family_members))"
   ]
  },
  {
   "cell_type": "markdown",
   "id": "f3337419-8745-435c-82b3-1efd4154232d",
   "metadata": {
    "tags": []
   },
   "source": [
    "# for each family, extract exepcted ploidization events ages. consider only events which occured in at least 75% of the mappings"
   ]
  },
  {
   "cell_type": "code",
   "execution_count": 9,
   "id": "170e803e-e0a6-434e-90a0-dac4e8fa3c15",
   "metadata": {},
   "outputs": [],
   "source": [
    "def get_best_model(log_path: str) -> str:\n",
    "    wei_re = re.compile(\"path=(.*?), weight=(\\d*\\.?\\d*)\", re.MULTILINE | re.DOTALL)\n",
    "    best_model = \"\" \n",
    "    best_model_weight = 0\n",
    "    with open(log_path, \"r\") as f:\n",
    "        for match in wei_re.finditer(f.read()):\n",
    "            model = os.path.basename(os.path.dirname(match.group(1)))\n",
    "            weight = float(match.group(2))\n",
    "            if weight > best_model_weight:\n",
    "                best_model_weight = weight\n",
    "                best_model = model\n",
    "    return best_model\n",
    "            \n",
    "def get_evolutionary_paths(sm_zip_path: str,\n",
    "                           selected_model: str,\n",
    "                           output_dir: str) -> list[str]:\n",
    "    os.makedirs(output_dir, exist_ok=True)\n",
    "    output_zip_path = output_dir + f'stochastic_mapping/{selected_model}/evolutionary_paths.zip'\n",
    "    with zipfile.ZipFile(sm_zip_path) as archive:\n",
    "        all_files = archive.namelist()\n",
    "        relevant_files = [f for f in all_files if (f'stochastic_mapping/{selected_model}/evolutionary_paths' in f or f'stochastic_mapping/evolutionary_paths' in f) and (f.endswith(\".csv\") or f.endswith(\".zip\"))]\n",
    "        if len(relevant_files) == 1:\n",
    "            output_zip_path = output_dir + relevant_files[0]\n",
    "        for file in relevant_files:\n",
    "            archive.extract(file, output_dir)\n",
    "    if os.path.exists(output_zip_path) and len(os.listdir(output_dir)) <= 10:\n",
    "        with zipfile.ZipFile(output_zip_path, 'r') as zip_ref:\n",
    "            zip_ref.extractall(output_dir)\n",
    "    evolutionary_paths =  glob.glob(f'{output_dir}/{selected_model}/evolutionary_paths/**.csv') + glob.glob(f'{output_dir}/evolutionary_paths/**.csv') + glob.glob(f'{output_dir}/stochastic_mapping/evolutionary_paths/**.csv') + glob.glob(f'{output_dir}/stochastic_mapping/{selected_model}/evolutionary_paths/**.csv')\n",
    "    return evolutionary_paths\n",
    "\n",
    "def parse_ploidy_ages(evolutionary_paths: str) -> pd.DataFrame:\n",
    "    ploidy_ages_data = []\n",
    "    for path in evolutionary_paths:\n",
    "        data = pd.read_csv(path)\n",
    "        data[\"mapping_index\"] = path.split(\"_\")[-1].split(\".\")[0]\n",
    "        ploidy_ages_data.append(data)\n",
    "    ploidy_ages_data = pd.concat(ploidy_ages_data)\n",
    "    ploidy_ages_data[\"is_polyploidization\"] = ploidy_ages_data.event_type.isin([\"BASE-NUMBER\", \"DEMI-DUPLICATION\", \"DUPLICATION\"])\n",
    "    expected_ploidy_ages_data = ploidy_ages_data.groupby([\"branch_parent_name\",\t\"branch_child_name\", \"is_polyploidization\"]).agg({\"mapping_index\": lambda x: len(x)/1000,\n",
    "                                                                                                                         \"age\": lambda x: np.mean(x)}).reset_index()\n",
    "    expected_ploidy_ages_data = expected_ploidy_ages_data.rename(columns={\"mapping_index\": \"frequency_across_mappings\"})\n",
    "    expected_ploidy_ages_data = expected_ploidy_ages_data.loc[expected_ploidy_ages_data.frequency_across_mappings >= 0.75]\n",
    "    return expected_ploidy_ages_data\n",
    "    \n",
    "\n",
    "def compute_expected_events(family: str):\n",
    "    expected_ploidy_ages_data_path=f\"{ploidb_family_dir}/{family}/expected_ploidy_ages_data.csv\"\n",
    "    sm_zip_path = f\"{ploidb_family_dir}/{family}/chromevol/stochastic_mapping.zip\"\n",
    "    evolutionary_paths_dir = f\"{ploidb_family_dir}/{family}/tmp/\"\n",
    "        \n",
    "    if not os.path.exists(expected_ploidy_ages_data_path) and os.path.exists(sm_zip_path):\n",
    "    \n",
    "        # get the selected model\n",
    "        selected_model = get_best_model(f\"{ploidb_family_dir}/{family}/pipeline.log\")\n",
    "        if selected_model == \"gain_loss\":\n",
    "            if os.path.exists(evolutionary_paths_dir):\n",
    "                shutil.rmtree(evolutionary_paths_dir)\n",
    "            return 0\n",
    "\n",
    "        # extract the evolutionary paths of the best model\n",
    "        evolutionary_paths = get_evolutionary_paths(sm_zip_path=sm_zip_path,\n",
    "                                                       selected_model=selected_model,\n",
    "                                                       output_dir=evolutionary_paths_dir)\n",
    "        print(f\"# evolutionary paths = {len(evolutionary_paths):,}\")\n",
    "        assert(len(evolutionary_paths) >= 10)\n",
    "        expected_ploidy_ages_data = parse_ploidy_ages(evolutionary_paths=evolutionary_paths)\n",
    "        expected_ploidy_ages_data.to_csv(expected_ploidy_ages_data_path)\n",
    "        print(f\"written expected ploidy ages data to {expected_ploidy_ages_data_path}\")\n",
    "        shutil.rmtree(evolutionary_paths_dir)"
   ]
  },
  {
   "cell_type": "code",
   "execution_count": 10,
   "id": "49ebf31a-caac-4c55-b4d8-c73cbf470aae",
   "metadata": {},
   "outputs": [],
   "source": [
    "failed_families_to_error = {}\n",
    "for family in family_to_mrca:\n",
    "    try:\n",
    "        compute_expected_events(family)\n",
    "    except Exception as e:\n",
    "        failed_families_to_error[family] = e"
   ]
  },
  {
   "cell_type": "code",
   "execution_count": 11,
   "id": "1c5e1022-0421-4e4f-9ef2-d7bace51daf6",
   "metadata": {},
   "outputs": [],
   "source": [
    "assert(len(failed_families_to_error.keys()) == 0)"
   ]
  },
  {
   "cell_type": "markdown",
   "id": "c2313d2c-f6b2-42b6-920b-c9026224f88a",
   "metadata": {
    "tags": []
   },
   "source": [
    "# add internal nodes for location of events, along with the index of polyploidization (first, second third... to seventh)"
   ]
  },
  {
   "cell_type": "code",
   "execution_count": 12,
   "id": "70c14238-a558-4eda-9e5e-b83a02ceab35",
   "metadata": {},
   "outputs": [],
   "source": [
    "family_to_ploidy_events = {family: pd.read_csv(f\"{ploidb_family_dir}/{family}/expected_ploidy_ages_data.csv\") for family in family_to_mrca if os.path.exists(f\"{ploidb_family_dir}/{family}/expected_ploidy_ages_data.csv\")}"
   ]
  },
  {
   "cell_type": "code",
   "execution_count": 13,
   "id": "a69568af-299a-4854-bfe0-4b34044e6341",
   "metadata": {},
   "outputs": [
    {
     "data": {
      "text/plain": [
       "83433"
      ]
     },
     "execution_count": 13,
     "metadata": {},
     "output_type": "execute_result"
    }
   ],
   "source": [
    "max_internal_index = np.max([int(node.name.replace(\"N\",\"\")) for node in full_tree.traverse() if not node.is_leaf() and not node.is_root()])\n",
    "max_internal_index"
   ]
  },
  {
   "cell_type": "code",
   "execution_count": 14,
   "id": "8d31f7d2-f2d7-48ac-9037-7df3b003a01b",
   "metadata": {},
   "outputs": [],
   "source": [
    "def parse_ml_tree(tree_path: str) -> Tree:\n",
    "    tree = Tree(tree_path, format=1)\n",
    "    for node in tree.traverse():\n",
    "        node_name = node.name\n",
    "        node_name_s = \"-\".join(node_name.split(\"-\")[:-1])\n",
    "        node.name = node_name_s\n",
    "    if len(tree.get_children()) > 2: # the node has direct children added from ccdb - remove them for visulaizayiom purposes\n",
    "        for child in tree.get_children():\n",
    "            if child.is_leaf():\n",
    "                child.delete()\n",
    "    return tree\n",
    "\n",
    "\n",
    "def replace_mrca(mrca_tree: Tree, events_tree: Tree, max_internal_index: int) -> Tree:\n",
    "    mrca_parent = mrca_tree.up\n",
    "    mrca_dist = mrca_tree.dist\n",
    "    events_tree_copy = events_tree.copy()\n",
    "    for node in events_tree_copy.traverse():\n",
    "        if not node.is_leaf():\n",
    "            node.name = f\"N{max_internal_index}\"\n",
    "            max_internal_index += 1\n",
    "    mrca_parent.add_child(child=events_tree_copy, dist=mrca_dist)\n",
    "    mrca_tree.detach()\n",
    "    return events_tree_copy, max_internal_index\n",
    "\n",
    "\n",
    "def map_events_to_curr_branch_names(events: pd.DataFrame, mrca_tree: Tree, events_tree: Tree) -> pd.DataFrame:\n",
    "    post_order_mrca_tree = [node.name for node in mrca_tree.traverse(\"postorder\")]\n",
    "    post_order_events_tree = [node.name for node in events_tree.traverse(\"postorder\")]\n",
    "    event_to_mrca_branch_names = {post_order_events_tree[i]: post_order_mrca_tree[i] for i in range(len(post_order_events_tree))}\n",
    "    events[\"mrca_branch_parent_name\"] = events.branch_parent_name.apply(lambda name: event_to_mrca_branch_names.get(name, np.nan))\n",
    "    events[\"mrca_branch_child_name\"] = events.branch_child_name.apply(lambda name: event_to_mrca_branch_names.get(name, np.nan))\n",
    "    leaves_events = events.loc[~events.branch_child_name.str.startswith(\"N\", na=False)]\n",
    "    if leaves_events.branch_child_name.tolist() != leaves_events.mrca_branch_child_name.tolist():\n",
    "        raise ValueError(f\"mapping of events and mrca branch names failed\")\n",
    "    return events\n",
    "    \n",
    "    \n",
    "def add_events_to_mrca_tree(mrca_tree: Tree, polyploidizations: pd.DataFrame):\n",
    "    for node in mrca_tree.traverse(\"preorder\"):\n",
    "        children = node.get_children()\n",
    "        node_polyploidizations = polyploidizations.query(f\"mrca_branch_parent_name == '{node.name}'\")\n",
    "        if node_polyploidizations.shape[0] > 0:\n",
    "            for i, row in node_polyploidizations.iterrows():\n",
    "                child = [child for child in children if child.name == row.mrca_branch_child_name][0]\n",
    "                dist_from_node = node.get_distance(node.get_leaves()[0])-row.age\n",
    "                dist_from_child = row.age-(child.get_distance(child.get_leaves()[0]) if not child.is_leaf() else 0)\n",
    "                event_subtree = child.detach()\n",
    "                new_node = node.add_child(name=f\"polyploidization_from_{row.mrca_branch_parent_name}_to_{row.mrca_branch_child_name.replace(' ', '')}_age_{row.age}\",\n",
    "                                          dist=dist_from_node)\n",
    "                new_node.add_child(child=event_subtree,\n",
    "                                   dist=dist_from_child)\n",
    "                               \n",
    "                    \n",
    "def add_family_events_to_full_tree(family: str, max_internal_index: int = max_internal_index):\n",
    "    events = family_to_ploidy_events[family]\n",
    "    events = events[[c for c in events.columns if \"Unnamed\" not in c]]\n",
    "    events_tree_path = f\"{ploidb_family_dir}/{family}/chromevol/model_selection/gain_loss/MLAncestralReconstruction.tree\"\n",
    "    events_tree = parse_ml_tree(events_tree_path)\n",
    "    events = events.loc[events.branch_child_name.isin([node.name for node in events_tree.traverse()])]\n",
    "    mrca_tree = family_to_mrca[family]\n",
    "    mrca_tree.sort_descendants(attr='name')\n",
    "    events_tree.sort_descendants(attr='name')\n",
    "    post_order_mrca_tree = [node.name for node in mrca_tree.traverse(\"postorder\")]\n",
    "    post_order_events_tree = [node.name for node in events_tree.traverse(\"postorder\")]\n",
    "    if len(post_order_mrca_tree) != len(post_order_events_tree):   \n",
    "        # print(f\"MRCA tree includes {len(post_order_mrca_tree):,} nodes while events tree includes {len(post_order_events_tree):,} nodes, will now replace it\")\n",
    "        mrca_tree, max_internal_index = replace_mrca(mrca_tree=mrca_tree, events_tree=events_tree, max_internal_index=max_internal_index)\n",
    "        family_to_mrca[family] = mrca_tree\n",
    "        mrca_tree.sort_descendants(attr='name')\n",
    "    for node in mrca_tree.traverse():\n",
    "        node.add_feature(pr_name=\"family\",\n",
    "                         pr_value=family)\n",
    "    events = map_events_to_curr_branch_names(events=events, mrca_tree=mrca_tree, events_tree=events_tree)\n",
    "    events.to_csv(f\"{ploidb_family_dir}/{family}/expected_ploidy_ages_data.csv\")\n",
    "    family_to_ploidy_events[family] = events\n",
    "    polyploidizations = events.query(\"is_polyploidization\").sort_values(\"age\", ascending=False)\n",
    "    add_events_to_mrca_tree(mrca_tree=mrca_tree, polyploidizations=polyploidizations)\n",
    "    return max_internal_index"
   ]
  },
  {
   "cell_type": "code",
   "execution_count": 15,
   "id": "13070b88-a411-4f0d-b919-90dea5188981",
   "metadata": {},
   "outputs": [],
   "source": [
    "failed_family_to_error = {}\n",
    "for family in family_to_mrca:\n",
    "    if family in family_to_ploidy_events:\n",
    "        try:\n",
    "            max_internal_index = add_family_events_to_full_tree(family=family, max_internal_index=max_internal_index)\n",
    "        except Exception as e:\n",
    "            failed_family_to_error[family] = e"
   ]
  },
  {
   "cell_type": "code",
   "execution_count": 16,
   "id": "d06cc95b-4518-4ac7-a4df-d5ac91934017",
   "metadata": {},
   "outputs": [
    {
     "data": {
      "text/plain": [
       "{'verbenaceae': ValueError('mapping of events and mrca branch names failed'),\n",
       " 'polemoniaceae': ValueError('mapping of events and mrca branch names failed'),\n",
       " 'thymelaeaceae': ValueError('mapping of events and mrca branch names failed'),\n",
       " 'cleomaceae': ValueError('mapping of events and mrca branch names failed')}"
      ]
     },
     "execution_count": 16,
     "metadata": {},
     "output_type": "execute_result"
    }
   ],
   "source": [
    "failed_family_to_error"
   ]
  },
  {
   "cell_type": "code",
   "execution_count": 17,
   "id": "9e352830-6ecb-496b-8ac9-b0fd14085891",
   "metadata": {},
   "outputs": [],
   "source": [
    "for family in failed_family_to_error:\n",
    "    family_to_mrca[family].delete()"
   ]
  },
  {
   "cell_type": "code",
   "execution_count": 18,
   "id": "52296119-c59f-4375-908c-d3d4f7ed070d",
   "metadata": {},
   "outputs": [],
   "source": [
    "node_names_to_num_occurances = Counter(full_tree.get_leaf_names()) \n",
    "duplicated_node_names = set([l for l in node_names_to_num_occurances if node_names_to_num_occurances[l] > 1])\n",
    "for node in full_tree.traverse():\n",
    "    if node.name in duplicated_node_names:\n",
    "        node.name = f\"N{max_internal_index}\"\n",
    "        max_internal_index += 1"
   ]
  },
  {
   "cell_type": "markdown",
   "id": "5ef8b524-0ae2-46aa-93fa-7d5fdbdb1cf1",
   "metadata": {
    "tags": []
   },
   "source": [
    "# document the order of polyploidzation since the root"
   ]
  },
  {
   "cell_type": "code",
   "execution_count": 19,
   "id": "d59696d0-b57c-4f8a-8fa6-3e9c0d23819a",
   "metadata": {},
   "outputs": [],
   "source": [
    "full_tree.add_feature(pr_name=\"num_prev_polyploidizations\",\n",
    "                            pr_value=0) \n",
    "for node in full_tree.traverse(\"preorder\"):\n",
    "    poly_index = node.num_prev_polyploidizations\n",
    "    if node.name.startswith(\"polyploidization\"):\n",
    "        poly_index += 1\n",
    "        node.add_feature(pr_name=\"polyploidization_index\",\n",
    "                         pr_value=poly_index)\n",
    "    for child in node.get_children():\n",
    "        child.add_feature(pr_name=\"num_prev_polyploidizations\",\n",
    "                            pr_value=poly_index)       "
   ]
  },
  {
   "cell_type": "code",
   "execution_count": 20,
   "id": "26b1ae5d-e9b1-42af-a776-aaa008e40d4b",
   "metadata": {},
   "outputs": [
    {
     "name": "stdout",
     "output_type": "stream",
     "text": [
      "# leaves in tree = 66,406\n",
      "# polyplodizations along tree = 16,431\n",
      "maximal number of events along evolutionary paths = 5\n"
     ]
    }
   ],
   "source": [
    "print(f\"# leaves in tree = {len(full_tree.get_leaves()):,}\")\n",
    "poy_indices = [node.polyploidization_index for node in full_tree.traverse(\"preorder\") if node.name.startswith(\"polyploidization\")]\n",
    "print(f\"# polyplodizations along tree = {len(poy_indices):,}\")\n",
    "print(f\"maximal number of events along evolutionary paths = {np.max(poy_indices)}\")"
   ]
  },
  {
   "cell_type": "code",
   "execution_count": 21,
   "id": "3e3bbbe6-b074-497e-a098-62c41581e24d",
   "metadata": {},
   "outputs": [],
   "source": [
    "full_tree.write(outfile=\"ALLMB_angiosperms_tree_with_polyploidizations.nwk\", format=1, features=['family','num_prev_polyploidizations', 'polyploidization_index'])"
   ]
  },
  {
   "cell_type": "markdown",
   "id": "3b4afd15-3853-419a-bf5e-3ae33622e6ee",
   "metadata": {
    "tags": []
   },
   "source": [
    "# add to nodes their cots classification"
   ]
  },
  {
   "cell_type": "code",
   "execution_count": 1,
   "id": "669acd1a-4282-4ed9-9ba5-365529d61530",
   "metadata": {},
   "outputs": [],
   "source": [
    "from ete3 import Tree, TreeStyle, NodeStyle, TextFace, RectFace, CircleFace\n",
    "import matplotlib.colors as mcolors\n",
    "import pylab\n",
    "import seaborn as sns\n",
    "import numpy as np\n",
    "import pandas as pd\n",
    "\n",
    "import os\n",
    "os.environ['QT_QPA_PLATFORM']='offscreen'\n",
    "\n",
    "color_by_cat = True\n",
    "tree_per_clade = True\n",
    "collapse = False\n",
    "\n",
    "full_tree_path = \"/groups/itay_mayrose/halabikeren/PloiDB/trees/resolved_ALLMB_name_resolution_on_ccdb_and_tree_with_added_ccdb_names_with_missing_from_ccdb.nwk\"\n",
    "wfo_classification_path = \"/groups/itay_mayrose/halabikeren/PloiDB/wfo_classification.txt\"\n",
    "tpl_classification_path = \"/groups/itay_mayrose/halabikeren/PloiDB/tpl.csv\"\n",
    "cots_classification_path = \"/groups/itay_mayrose/halabikeren/PloiDB/chromevol/results/cots_classification/cots_classification.csv\"\n",
    "ploidb_family_dir = \"/groups/itay_mayrose/halabikeren/PloiDB/chromevol/with_model_weighting/by_family_on_unresolved_ALLMB_and_unresolved_ccdb/\"\n",
    "family_tees_roots_path = \"/groups/itay_mayrose/halabikeren/PloiDB/trees/optimal_ALLMB_roots_for_family_partition.csv\""
   ]
  },
  {
   "cell_type": "code",
   "execution_count": 2,
   "id": "644e4b89-fedb-4f9f-b947-1c174ea35208",
   "metadata": {},
   "outputs": [],
   "source": [
    "tree = Tree(\"../ALLMB_angiosperms_tree_with_polyploioidizations.nwk\", format=1)\n",
    "clade_classification_data = pd.read_csv(cots_classification_path)\n",
    "clade_classification_data.tax_name = clade_classification_data.tax_name.str.lower()\n",
    "clade_classification_data.family = clade_classification_data.family.str.lower()"
   ]
  },
  {
   "cell_type": "code",
   "execution_count": 3,
   "id": "7bfe02af-7c2c-4bd9-ac3e-33005d0bdad6",
   "metadata": {},
   "outputs": [],
   "source": [
    "family_to_order = clade_classification_data.dropna(subset=[\"family\"]).set_index(\"family\")[\"order\"].to_dict() \n",
    "order_to_clade = clade_classification_data.dropna(subset=[\"order\"]).set_index(\"order\")[\"Major phylogeny groups according to Wood et al. 2009\"].to_dict()"
   ]
  },
  {
   "cell_type": "code",
   "execution_count": 4,
   "id": "eef43e9b-48cd-413f-977e-084b8fe0255b",
   "metadata": {},
   "outputs": [],
   "source": [
    "tips_wo_clade_class, tips_wo_order_class, tips_wo_family_class = [], [], []\n",
    "for leaf in tree.get_leaves():\n",
    "    if \"family\" not in leaf.__dict__[\"features\"]:\n",
    "        tips_wo_family_class.append(leaf.name)\n",
    "    order = family_to_order.get(leaf.family, np.nan)\n",
    "    if pd.isna(order):\n",
    "        tips_wo_order_class.append(leaf.family)\n",
    "    clade = order_to_clade.get(order, np.nan)\n",
    "    if pd.isna(clade):\n",
    "        tips_wo_clade_class.append(leaf.name)\n",
    "    leaf.add_feature(pr_name=\"order\",\n",
    "                        pr_value=order)\n",
    "    leaf.add_feature(pr_name=\"clade\",\n",
    "                        pr_value=clade)"
   ]
  },
  {
   "cell_type": "code",
   "execution_count": 5,
   "id": "fff668a4-9f6a-40fa-a0c9-6ab68d0ac861",
   "metadata": {},
   "outputs": [],
   "source": [
    "for node in tree.traverse(\"postorder\"):\n",
    "    if node.is_leaf():\n",
    "        continue\n",
    "    children_orders = list(set([child.order for child in node.get_leaves()]))\n",
    "    children_clades = list(set([child.clade for child in node.get_leaves()]))\n",
    "    node.add_feature(pr_name=\"clade\", pr_value=children_clades)\n",
    "    node.add_feature(pr_name=\"order\", pr_value=children_orders)"
   ]
  },
  {
   "cell_type": "code",
   "execution_count": 6,
   "id": "ddc6db69-9d56-4bdf-b4dc-8a9d31426a3f",
   "metadata": {},
   "outputs": [],
   "source": [
    "tree.write(outfile=\"../ALLMB_angiosperms_tree_with_polyploidizations.nwk\", format=1, features=['family','num_prev_polyploidizations', 'polyploidization_index', 'clade', 'order'])"
   ]
  },
  {
   "cell_type": "code",
   "execution_count": 7,
   "id": "8ca1db09-48bf-4887-ac6b-c5bcb53c50c8",
   "metadata": {},
   "outputs": [],
   "source": [
    "clades = set([l.clade for l in tree.get_leaves()])"
   ]
  },
  {
   "cell_type": "markdown",
   "id": "b3a16021-1935-4b7f-b7c9-ccb2df705a8f",
   "metadata": {},
   "source": [
    "# plot trees"
   ]
  },
  {
   "cell_type": "code",
   "execution_count": 8,
   "id": "2447b889-258f-4474-b0ec-9abdf3ac293c",
   "metadata": {},
   "outputs": [
    {
     "name": "stdout",
     "output_type": "stream",
     "text": [
      "# polyplodizations = 16,431\n"
     ]
    }
   ],
   "source": [
    "print(f\"# polyplodizations = {len([n for n in tree.traverse() if n.name.startswith('polyploidization')]):,}\")\n",
    "tree.get_tree_root().add_feature(pr_name=\"num_prev_polyploidizations\", pr_value=0)\n",
    "tree.convert_to_ultrametric()"
   ]
  },
  {
   "cell_type": "code",
   "execution_count": 9,
   "id": "542a013d-a775-4d6a-9ea5-1ccd9a728bbd",
   "metadata": {},
   "outputs": [],
   "source": [
    "if collapse:\n",
    "    for node in tree.traverse(\"preorder\"):\n",
    "        if int(node.num_prev_polyploidizations) == max([int(l.num_prev_polyploidizations) for l in node.get_leaves()]):\n",
    "            for child in node.get_children():\n",
    "                node.remove_child(child)\n",
    "    print(f\"# polyplodizations = {len([n for n in tree.traverse() if n.name.startswith('polyploidization')]):,}\")\n",
    "    print(f\"# leaves = {len(tree.get_leaves()):,}\")"
   ]
  },
  {
   "cell_type": "code",
   "execution_count": 10,
   "id": "689fc04f-e8d6-4733-8389-292c0e2756e9",
   "metadata": {},
   "outputs": [],
   "source": [
    "clades = list(set([l.clade for l in tree.get_leaves()]))\n",
    "clade_to_size = {c: len([l for l in tree.get_leaves() if l.clade == c]) for c in clades}\n",
    "clades.sort(key = lambda c: clade_to_size[c])\n",
    "poly_index_to_color = {0: \"darkgray\", 1: \"#a1dab4\", 2: \"#41b6c4\", 3: \"#2c7fb8\", 4: \"#253494\", 5:\"midnightblue\"}"
   ]
  },
  {
   "cell_type": "code",
   "execution_count": 42,
   "id": "f8e88566-127d-4074-b4c1-ee8dfd3df46c",
   "metadata": {},
   "outputs": [],
   "source": [
    "def get_cat_to_color(tree: Tree, ncat: int = 25) -> dict:\n",
    "    cat_to_color = {}\n",
    "    cat_name = \"order\" if tree_per_clade else \"order\"\n",
    "    categories = list(set([l.__dict__[cat_name] for l in tree.get_leaves()]))\n",
    "    c = sns.color_palette(\"husl\", np.min([ncat, len(categories)]))\n",
    "    colors = c.as_hex()\n",
    "    print(f\"# displayed categories = {len(colors):,}\")\n",
    "    if color_by_cat:\n",
    "        cat_to_size = {cat: len([l for l in tree.get_leaves() if l.__dict__[cat_name] == cat]) for cat in categories}\n",
    "        categories.sort(key = lambda cat: cat_to_size[cat], reverse=True)               \n",
    "        for i in range(len(colors)):\n",
    "            cat_to_color[categories[i]] = colors[i]\n",
    "        if len(colors) < len(categories):\n",
    "            print(f\"number of colors {len(colors)} < number of {cat_name}s {len(categories)}\")\n",
    "            for i in range(len(colors), len(categories)):\n",
    "                cat_to_color[categories[i]] = \"white\"\n",
    "    return cat_to_color\n",
    "\n",
    "def get_tree_style(tree, color_by_cat: bool, cat_to_color: dict = {}):\n",
    "    ts = TreeStyle()\n",
    "    ts.mode = \"c\"  # draw tree in circular mode\n",
    "    ts.scale = None\n",
    "    ts.optimal_scale_level = \"full\"\n",
    "    ts.extra_branch_line_type = 0\n",
    "    ts.show_leaf_name = False\n",
    "    ts.show_scale = False\n",
    "    ts.margin_top = 10\n",
    "    ts.margin_right = 10\n",
    "    ts.margin_left = 10\n",
    "    ts.margin_bottom = 10\n",
    "\n",
    "    cat_name = \"order\" if tree_per_clade else \"order\"\n",
    "    nleaves = len(tree.get_leaves())\n",
    "    rect_scale = 2 if nleaves < 1000 else 3000 # (3000 if nleaves < 10000 else 6000)\n",
    "    \n",
    "    for n in tree.traverse(): \n",
    "        nstyle = NodeStyle()\n",
    "        node_color = poly_index_to_color[int(n.num_prev_polyploidizations)]\n",
    "        if \"family\" not in n.__dict__['features']:\n",
    "            node_color = \"#3A3A39\" if rect_scale > 2 else \"silver\"\n",
    "            nstyle[\"hz_line_type\"] = 2\n",
    "            nstyle[\"vt_line_type\"] = 2\n",
    "            # node_color = \"lightgray\"\n",
    "        node_cat_color = node_color\n",
    "        if n.is_leaf() and color_by_cat:\n",
    "            node_cat_color = cat_to_color.get(n.__dict__[cat_name], \"white\")\n",
    "        nstyle[\"hz_line_color\"] = node_cat_color if color_by_cat else node_color\n",
    "        nstyle[\"vt_line_color\"] = node_cat_color if color_by_cat else node_color\n",
    "        nstyle[\"vt_line_width\"] = 10*rect_scale#*(2 if color_by_cat else 1)\n",
    "        nstyle[\"hz_line_width\"] = 10*rect_scale#*(2 if color_by_cat else 1)\n",
    "        nstyle[\"size\"] = 5*rect_scale*(2 if color_by_cat and n.is_leaf() else 0)\n",
    "        nstyle[\"shape\"] = \"square\"\n",
    "        nstyle[\"fgcolor\"] = node_cat_color if color_by_cat else \"black\"  \n",
    "        n.set_style(nstyle)\n",
    "\n",
    "    return ts\n",
    "\n",
    "def is_ultrametric(tree: Tree):\n",
    "    distances = set([np.round(tree.get_distance(leaf), 3) for leaf in tree.get_leaves()])\n",
    "    return len(distances) == 1                  "
   ]
  },
  {
   "cell_type": "code",
   "execution_count": 43,
   "id": "5fde9d86-f630-4120-8eb4-c0bd4b4c5d9d",
   "metadata": {
    "tags": []
   },
   "outputs": [
    {
     "name": "stdout",
     "output_type": "stream",
     "text": [
      "\n",
      "# leaves in Dicots - core rosids = 16,212\n",
      "# displayed categories = 13\n",
      "\n",
      "# leaves in Dicots - core asterids = 26,441\n",
      "# displayed categories = 13\n"
     ]
    },
    {
     "data": {
      "image/png": "[encoded data removed]",
      "text/plain": [
       "<Figure size 640x480 with 1 Axes>"
      ]
     },
     "metadata": {},
     "output_type": "display_data"
    },
    {
     "data": {
      "text/plain": [
       "<Figure size 200x400 with 0 Axes>"
      ]
     },
     "metadata": {},
     "output_type": "display_data"
    },
    {
     "data": {
      "image/png": "[encoded data removed]",
      "text/plain": [
       "<Figure size 640x480 with 1 Axes>"
      ]
     },
     "metadata": {},
     "output_type": "display_data"
    },
    {
     "data": {
      "text/plain": [
       "<Figure size 200x400 with 0 Axes>"
      ]
     },
     "metadata": {},
     "output_type": "display_data"
    }
   ],
   "source": [
    "for clade in clades:\n",
    "    if pd.isna(clade) or clade == \"nan\":\n",
    "        continue\n",
    "    paths_to_create = {\"tree\": f\"{clade.replace(' ', '_')}_tree.nwk\",\n",
    "                       \"img_w_color\": f\"{clade.replace(' ','_')}_tree_w_color_by_cat.jpeg\",\n",
    "                       \"img_wo_color\": f\"{clade.replace(' ','_')}_tree_wo_color_by_cat.jpeg\",\n",
    "                       \"legend\": f\"{clade.replace(' ', '_')}_orders_legend.jpeg\"}\n",
    "    ex = np.all([os.path.exists(paths_to_create[p]) for p in paths_to_create])\n",
    "    if ex:\n",
    "        continue\n",
    "    node = tree.copy()\n",
    "    relevant_leaves = [l.name for l in tree.get_leaves() if l.clade == clade]\n",
    "    print(f\"\\n# leaves in {clade} = {len(relevant_leaves):,}\")\n",
    "    node.prune(relevant_leaves, preserve_branch_length=True)\n",
    "    nleaves = len(node.get_leaves())\n",
    "    scale = 1000#*(1 if nleaves < 1000 else (2 if nleaves < 10000 else 4))\n",
    "    node.write(outfile=paths_to_create[\"tree\"], format=1, features=['family','num_prev_polyploidizations', 'polyploidization_index', 'clade', 'order'])\n",
    "    node.convert_to_ultrametric()\n",
    "    assert (is_ultrametric(node))\n",
    "    cat_to_color = get_cat_to_color(tree=node)\n",
    "    ts = get_tree_style(node, color_by_cat=True, cat_to_color=cat_to_color)\n",
    "    node.render(paths_to_create[\"img_w_color\"], tree_style=ts, w=1500 , h=1500)\n",
    "    \n",
    "    fig = pylab.figure()\n",
    "    figlegend = pylab.figure(figsize=(2,4))\n",
    "    ax = fig.add_subplot(111)\n",
    "\n",
    "    for cat in cat_to_color:\n",
    "        if cat != \"nan\":\n",
    "            ax.plot([1], color=cat_to_color[cat], label=cat)\n",
    "    h, l = ax.get_legend_handles_labels()\n",
    "    figlegend.legend(h, l)\n",
    "    figlegend.tight_layout()\n",
    "    figlegend.savefig(paths_to_create[\"legend\"])\n",
    "    \n",
    "    ts = get_tree_style(node, color_by_cat=False)\n",
    "    node.render(paths_to_create[\"img_wo_color\"], tree_style=ts, w=scale, h=scale)"
   ]
  },
  {
   "cell_type": "code",
   "execution_count": 40,
   "id": "47a7f06b-e0df-48b7-9a08-53a8a2ac1289",
   "metadata": {},
   "outputs": [
    {
     "data": {
      "image/png": "[encoded data removed]",
      "text/plain": [
       "<Figure size 640x480 with 1 Axes>"
      ]
     },
     "metadata": {},
     "output_type": "display_data"
    },
    {
     "data": {
      "text/plain": [
       "<Figure size 200x400 with 0 Axes>"
      ]
     },
     "metadata": {},
     "output_type": "display_data"
    }
   ],
   "source": [
    "fig = pylab.figure()\n",
    "figlegend = pylab.figure(figsize=(2,4))\n",
    "ax = fig.add_subplot(111)\n",
    "\n",
    "for poly_index in poly_index_to_color:\n",
    "    ax.plot([1], color=poly_index_to_color[poly_index], label=f\"{poly_index}{'st' if poly_index == 1 else 'th'} polyploidization\") \n",
    "h, l = ax.get_legend_handles_labels()\n",
    "figlegend.legend(h, l)\n",
    "figlegend.tight_layout()\n",
    "figlegend.savefig(f\"poly_legend.jpeg\")"
   ]
  },
  {
   "cell_type": "code",
   "execution_count": null,
   "id": "cf82cf4c-b0a8-4a08-aaa9-1218c1df69c4",
   "metadata": {},
   "outputs": [],
   "source": []
  }
 ],
 "metadata": {
  "kernelspec": {
   "display_name": "Python 3 (ipykernel)",
   "language": "python",
   "name": "python3"
  },
  "language_info": {
   "codemirror_mode": {
    "name": "ipython",
    "version": 3
   },
   "file_extension": ".py",
   "mimetype": "text/x-python",
   "name": "python",
   "nbconvert_exporter": "python",
   "pygments_lexer": "ipython3",
   "version": "3.9.16"
  }
 },
 "nbformat": 4,
 "nbformat_minor": 5
}
