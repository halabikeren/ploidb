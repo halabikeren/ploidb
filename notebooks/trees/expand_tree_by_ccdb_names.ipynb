{
 "cells": [
  {
   "cell_type": "code",
   "execution_count": 1,
   "id": "2e8bc306-c345-407f-8550-f8d7b1a81f43",
   "metadata": {},
   "outputs": [],
   "source": [
    "from ete3 import Tree\n",
    "import pandas as pd\n",
    "import numpy as np\n",
    "from typing import Optional\n",
    "import os\n",
    "import pickle\n",
    "import sys\n",
    "\n",
    "sys.path.append(\"/groups/itay_mayrose/halabikeren/tmp/plant_pollinator_inter/data_processing/name_resolution/\")\n",
    "from resolved_names_curator import ResolvedNamesCurator\n",
    "from collections import defaultdict\n",
    "import matplotlib.pyplot as plt\n",
    "\n",
    "from Bio import Entrez\n",
    "\n",
    "Entrez.email = \"halabikeren@mail.tau.ac.il\""
   ]
  },
  {
   "cell_type": "code",
   "execution_count": 2,
   "id": "0f799916-c34c-476c-8c67-b7c196dd3199",
   "metadata": {
    "tags": []
   },
   "outputs": [],
   "source": [
    "resolve_ccdb = False\n",
    "resolve_tree = False\n",
    "inlcude_missing_data = False\n",
    "tree_name = \"ALLMB\"\n",
    "\n",
    "resolved_tree_path = f\"../trees/resolved_{tree_name}_name_resolution_on_{'none' if not resolve_tree and not resolve_ccdb else ('only_ccdb' if not resolve_tree else 'ccdb_and_tree')}.nwk\"\n",
    "if inlcude_missing_data:\n",
    "    resolved_tree_path = f\"../trees/{tree_name}.tre\"\n",
    "ppn_names_to_add_to_tree = \"../trees/names_to_add_for_ppn_project.csv\"\n",
    "resolved_ccdb_path = f\"../ccdb/resolved_data_name_resolved_on_{'ccdb_and_tree' if resolve_ccdb and resolve_tree else ('only_ccdb' if resolve_ccdb else 'none')}.csv\"\n",
    "full_ccdb_path = f\"../ccdb/all_data_171122.csv\"\n",
    "resolved_tree_path_with_additions = f\"../trees/new_resolved_{tree_name}_name_resolution_on_{'ccdb_and_tree' if resolve_ccdb and resolve_tree else ('only_ccdb' if resolve_ccdb else 'none')}_with_added_ccdb_{'and_wo_counts_' if inlcude_missing_data else ''}names.nwk\"\n",
    "reference_classification_data_path = \"../trees/wfo_classification_data.csv\"\n",
    "tree_classification_data_path = (\n",
    "    f\"../trees/{os.path.basename(resolved_tree_path_with_additions).split('.')[0]}_classification_data.csv\"\n",
    ")"
   ]
  },
  {
   "cell_type": "code",
   "execution_count": 3,
   "id": "8dd1fa1c-ced8-4053-afc0-667b8c3928aa",
   "metadata": {},
   "outputs": [],
   "source": [
    "tree = Tree(resolved_tree_path, format=1)\n",
    "for leaf in tree.get_leaves():\n",
    "    leaf.name = leaf.name.lower().replace(\"_\", \" \")\n",
    "\n",
    "resolved_ccdb = pd.read_csv(resolved_ccdb_path)\n",
    "ccdb = pd.read_csv(full_ccdb_path)\n",
    "resolved_ccdb = pd.read_csv(resolved_ccdb_path)"
   ]
  },
  {
   "cell_type": "code",
   "execution_count": 4,
   "id": "a893401b-473f-4b03-bb04-cd3ebf8c11d0",
   "metadata": {},
   "outputs": [],
   "source": [
    "resolved_ccdb.original_names = resolved_ccdb.original_names.apply(lambda names: names.split(\";\"))\n",
    "resolved_ccdb = resolved_ccdb.explode(\"original_names\")\n",
    "ccdb_orig_name_to_mapped_name = resolved_ccdb.set_index(\"original_names\")[\"mapped_name\"].to_dict()"
   ]
  },
  {
   "cell_type": "code",
   "execution_count": 5,
   "id": "ee94ff84-6288-4f8c-8a4e-075f9943bc45",
   "metadata": {},
   "outputs": [],
   "source": [
    "\n",
    "def get_mapped_name(record: pd.Series) -> Optional[str]:\n",
    "    if pd.notna(record.resolved_name):\n",
    "        return ResolvedNamesCurator.fix_name(record.resolved_name)\n",
    "    elif pd.notna(record.matched_name):\n",
    "        return ResolvedNamesCurator.fix_name(record.matched_name)\n",
    "    return np.nan\n",
    "\n",
    "\n",
    "ccdb[\"mapped_name\"] = ccdb[[\"original_name\", \"matched_name\", \"resolved_name\"]].apply(\n",
    "    lambda record: ccdb_orig_name_to_mapped_name.get(record.original_name.lower(), get_mapped_name(record)), axis=1\n",
    ")\n",
    "ccdb_names = set(ccdb.mapped_name.dropna().unique())\n",
    "ccdb.to_csv(full_ccdb_path, index=False)"
   ]
  },
  {
   "cell_type": "code",
   "execution_count": 6,
   "id": "e862edfc-66de-4a25-a396-aa37e50ee3cb",
   "metadata": {},
   "outputs": [],
   "source": [
    "ppn = pd.read_csv(ppn_names_to_add_to_tree)\n",
    "ppn_names = set(ppn.name.unique())"
   ]
  },
  {
   "cell_type": "code",
   "execution_count": 7,
   "id": "52e15879-a37f-41a5-b528-0bc061b5b60b",
   "metadata": {},
   "outputs": [
    {
     "name": "stdout",
     "output_type": "stream",
     "text": [
      "# names to keep in tree = 51,015\n",
      "# ccdb names = 80,565\n",
      "# ccdb names in tree = 52,263\n",
      "# ccdb names that can potentially be added to tree = 29,550\n",
      "# ppn names that can potentially be added to tree = 428\n"
     ]
    }
   ],
   "source": [
    "# prune the resolved tree\n",
    "def get_names_to_keep_in_tree(\n",
    "    tree: Tree, ccdb_names: set, add_missing: bool = True\n",
    ") -> list[str]:  # name that can be kept in tree must have counts or have a sibling with counts\n",
    "    names_to_keep = []\n",
    "    for leaf in tree.get_leaves():\n",
    "        if leaf.name in ccdb_names:\n",
    "            names_to_keep.append(leaf.name)\n",
    "        elif add_missing and np.any([sibling.name in ccdb_names for sibling in leaf.up.get_children()]):\n",
    "            names_to_keep.append(leaf.name)\n",
    "    return names_to_keep\n",
    "\n",
    "\n",
    "tree_names = set(tree.get_leaf_names())\n",
    "names_to_keep_in_tree = get_names_to_keep_in_tree(tree=tree, ccdb_names=ccdb_names, add_missing=inlcude_missing_data)\n",
    "ccdb_names_to_add_to_tree = list(ccdb_names - set(names_to_keep_in_tree))\n",
    "ppn_names_to_add_to_tree = (\n",
    "    list(ppn_names & ccdb_names - set(names_to_keep_in_tree))\n",
    "    if inlcude_missing_data\n",
    "    else list(ppn_names - set(names_to_keep_in_tree))\n",
    ")\n",
    "print(f\"# names to keep in tree = {len(names_to_keep_in_tree):,}\")\n",
    "print(f\"# ccdb names = {len(ccdb_names):,}\")\n",
    "print(f\"# ccdb names in tree = {len(ccdb.loc[ccdb.mapped_name.str.lower().isin(tree_names)].mapped_name.unique()):,}\")\n",
    "print(f\"# ccdb names that can potentially be added to tree = {len(ccdb_names_to_add_to_tree):,}\")\n",
    "print(f\"# ppn names that can potentially be added to tree = {len(ppn_names_to_add_to_tree):,}\")\n",
    "tree.prune(names_to_keep_in_tree, preserve_branch_length=True)"
   ]
  },
  {
   "cell_type": "code",
   "execution_count": 8,
   "id": "cc3b067d-9fc3-4492-9a95-6d6609a2bc1d",
   "metadata": {},
   "outputs": [
    {
     "name": "stdout",
     "output_type": "stream",
     "text": [
      "# genera to add direct children to 2,814\n",
      "# ccdb names to add = 18,512\n",
      "# ppn names to add = 410\n"
     ]
    }
   ],
   "source": [
    "ccdb_names_to_add_by_genus = (\n",
    "    pd.DataFrame(\n",
    "        {\"mapped_name\": ccdb_names_to_add_to_tree, \"genus\": [name.split(\" \")[0] for name in ccdb_names_to_add_to_tree]}\n",
    "    )\n",
    "    .groupby(\"genus\")[\"mapped_name\"]\n",
    "    .apply(lambda x: list(x))\n",
    "    .to_dict()\n",
    ")\n",
    "ppn_names_to_add_by_genus = (\n",
    "    ppn.loc[ppn.name.isin(ppn_names_to_add_to_tree)].groupby(\"genus\")[\"name\"].apply(lambda x: list(x)).to_dict()\n",
    ")\n",
    "\n",
    "genera = set(list(ccdb_names_to_add_by_genus.keys()) + list(ppn_names_to_add_by_genus.keys()))\n",
    "tree_genera = set([ln.split(\" \")[0] for ln in tree.get_leaf_names()])\n",
    "relevant_genera = [genus for genus in genera if genus in tree_genera]\n",
    "names_to_add_by_genus = dict()\n",
    "num_ccdb_names_to_add = 0\n",
    "num_ppn_names_to_add = 0\n",
    "for genus in relevant_genera:\n",
    "    genus_ccdb_names_to_add = ccdb_names_to_add_by_genus.get(genus, [])\n",
    "    genus_ppn_names_to_add = ppn_names_to_add_by_genus.get(genus, [])\n",
    "    names_to_add_by_genus[genus] = list(set(genus_ccdb_names_to_add + genus_ppn_names_to_add))\n",
    "    num_ccdb_names_to_add += len(genus_ccdb_names_to_add)\n",
    "    num_ppn_names_to_add += len(genus_ppn_names_to_add)\n",
    "\n",
    "print(f\"# genera to add direct children to {len(names_to_add_by_genus.keys()):,}\")\n",
    "print(f\"# ccdb names to add = {num_ccdb_names_to_add:,}\")\n",
    "print(f\"# ppn names to add = {num_ppn_names_to_add:,}\")"
   ]
  },
  {
   "cell_type": "code",
   "execution_count": 9,
   "id": "f6ceb371-727e-4c05-87db-6c38ad6fd531",
   "metadata": {},
   "outputs": [],
   "source": [
    "genus_to_names = defaultdict(list)\n",
    "for leaf_name in tree.get_leaf_names():\n",
    "    genus = leaf_name.split(\" \")[0]\n",
    "    genus_to_names[genus].append(leaf_name)"
   ]
  },
  {
   "cell_type": "code",
   "execution_count": 10,
   "id": "65e71a26-7831-4e70-ae0c-e91a56c56e58",
   "metadata": {},
   "outputs": [],
   "source": [
    "if os.path.exists(\"genus_to_ancestor.pkl\"):\n",
    "    with open(\"genus_to_ancestor.pkl\", \"rb\") as f:\n",
    "        genus_to_ancestor = pickle.load(f)\n",
    "else:\n",
    "    genus_to_ancestor = dict()\n",
    "    for genus in genus_to_names:\n",
    "        genus_to_ancestor[genus] = tree.get_common_ancestor(genus_to_names[genus])"
   ]
  },
  {
   "cell_type": "code",
   "execution_count": 11,
   "id": "831fb930-6b0f-4f59-92fa-e076a3a5d89b",
   "metadata": {},
   "outputs": [
    {
     "name": "stdout",
     "output_type": "stream",
     "text": [
      "# leaves in new tree = 51,015\n"
     ]
    }
   ],
   "source": [
    "for genus in names_to_add_by_genus:\n",
    "    ancestor = genus_to_ancestor[genus]\n",
    "    names = names_to_add_by_genus[genus]\n",
    "    time_to_leaf = ancestor.get_distance(ancestor.get_leaf_names()[0])\n",
    "    for name in names:\n",
    "        if len(ancestor.search_nodes(name=name)) == 0:\n",
    "            leaf = ancestor.add_child(name=name, dist=time_to_leaf)\n",
    "print(f\"# leaves in new tree = {len(tree.get_leaf_names()):,}\")\n",
    "i = 0\n",
    "for node in tree.traverse():\n",
    "    if not node.is_leaf() and len(node.name) < 2:\n",
    "        node.name = f\"N{i}\"\n",
    "        i += 1\n",
    "tree.write(outfile=resolved_tree_path_with_additions, format=1)"
   ]
  },
  {
   "cell_type": "code",
   "execution_count": 12,
   "id": "964b3e6d-fe9e-4200-9355-60c3ef61f3cd",
   "metadata": {},
   "outputs": [
    {
     "data": {
      "text/plain": [
       "27"
      ]
     },
     "execution_count": 12,
     "metadata": {},
     "output_type": "execute_result"
    }
   ],
   "source": [
    "missing_in_w_imssing_in_ccdb = {\n",
    "    \"anthyllis vulneraria subsp. pyrenaica\",\n",
    "    \"arctotis adpressa\",\n",
    "    \"armeria villosa subsp. longiaristata\",\n",
    "    \"aster sibiricus\",\n",
    "    \"centaurea vulpina\",\n",
    "    \"chamaemelum mixta\",\n",
    "    \"chromolaena squarrulosa\",\n",
    "    \"cirsium luzoniense\",\n",
    "    \"citharexylum ligustrifolium\",\n",
    "    \"cotoneaster congestus\",\n",
    "    \"epilobium hectoris\",\n",
    "    \"hemerocallis baronii\",\n",
    "    \"lychnis coronata\",\n",
    "    \"melampyrum pratense subsp. hians\",\n",
    "    \"orobanche artemisiae-campestris subsp. picridis\",\n",
    "    \"paeonia ã\\x97\",\n",
    "    \"potentilla alchemilloides\",\n",
    "    \"potentilla rupestris\",\n",
    "    \"pulicaria clausonis\",\n",
    "    \"ranunculus pusillus var. angustifolius\",\n",
    "    \"rhinanthus glaber\",\n",
    "    \"rosa damascena\",\n",
    "    \"scorzonera crispa\",\n",
    "    \"scorzonera hispanica subsp. neapolitana\",\n",
    "    \"solanum herculeum\",\n",
    "    \"viola dukadjinica\",\n",
    "    \"viola euboea\",\n",
    "}\n",
    "\n",
    "len(missing_in_w_imssing_in_ccdb - set(tree.get_leaf_names()))"
   ]
  },
  {
   "cell_type": "markdown",
   "id": "c0b8a9bf-b938-4ec5-81c9-b1f08ca3af04",
   "metadata": {},
   "source": [
    "## create classification data"
   ]
  },
  {
   "cell_type": "code",
   "execution_count": 3,
   "id": "80c4d720-c8be-462d-bf03-3b8bd10ad210",
   "metadata": {},
   "outputs": [],
   "source": [
    "classification_data = pd.DataFrame(columns=[\"taxon\", \"genus\", \"family\"])\n",
    "classification_data.taxon = pd.Series(Tree(resolved_tree_path_with_additions, format=1).get_leaf_names())\n",
    "\n",
    "ref_classification_data = pd.read_csv(reference_classification_data_path)\n",
    "\n",
    "taxon_to_genus = ref_classification_data.set_index(\"taxon\")[\"genus\"].to_dict()\n",
    "classification_data.set_index(\"taxon\", inplace=True)\n",
    "classification_data.genus.fillna(value=taxon_to_genus, inplace=True)\n",
    "classification_data.genus.fillna(\n",
    "    value={tax: tax.split(\" \")[0] for tax in classification_data.index.tolist()}, inplace=True\n",
    ")\n",
    "classification_data.reset_index(inplace=True)\n",
    "\n",
    "taxon_to_family = ref_classification_data.set_index(\"taxon\")[\"family\"].to_dict()\n",
    "classification_data.set_index(\"taxon\", inplace=True)\n",
    "classification_data.family.fillna(value=taxon_to_family, inplace=True)\n",
    "classification_data.reset_index(inplace=True)\n",
    "\n",
    "genus_to_family = ref_classification_data.set_index(\"genus\")[\"family\"].to_dict()\n",
    "classification_data.set_index(\"genus\", inplace=True)\n",
    "classification_data.family.fillna(value=genus_to_family, inplace=True)\n",
    "classification_data.reset_index(inplace=True)\n",
    "\n",
    "classification_data.to_csv(tree_classification_data_path, index=False)"
   ]
  },
  {
   "cell_type": "code",
   "execution_count": 8,
   "id": "b39c7706-4161-40a0-a25b-0ff7707a012f",
   "metadata": {},
   "outputs": [
    {
     "name": "stdout",
     "output_type": "stream",
     "text": [
      "# genera with missing family data = 189\n"
     ]
    }
   ],
   "source": [
    "query_genera = classification_data.loc[classification_data.family.isna(), \"genus\"].unique().tolist()\n",
    "print(f\"# genera with missing family data = {len(query_genera):,}\")\n",
    "name_to_id = dict()\n",
    "for tax in query_genera:\n",
    "    try:\n",
    "        name_to_id[tax] = Entrez.read(Entrez.esearch(db=\"taxonomy\", term=tax, retmode=\"xml\"))[\"IdList\"][0]\n",
    "    except:\n",
    "        continue"
   ]
  },
  {
   "cell_type": "code",
   "execution_count": 9,
   "id": "aff8ff32-3854-4684-bbaf-35606085bd4c",
   "metadata": {},
   "outputs": [],
   "source": [
    "taxa_ids = list(name_to_id.values())\n",
    "taxa_data = []\n",
    "batch_size = 100\n",
    "taxa_ids_batches = [taxa_ids[i : i + batch_size] for i in range(0, len(taxa_ids), batch_size)]\n",
    "for batch in taxa_ids_batches:\n",
    "    taxa_data += list(Entrez.parse(Entrez.efetch(db=\"taxonomy\", id=\",\".join(batch), retmode=\"xml\")))"
   ]
  },
  {
   "cell_type": "code",
   "execution_count": 10,
   "id": "dda886d8-b9da-4cb6-9f95-286f4d49c3cc",
   "metadata": {},
   "outputs": [
    {
     "name": "stdout",
     "output_type": "stream",
     "text": [
      "3 list index out of range\n",
      "10 list index out of range\n",
      "15 list index out of range\n",
      "17 list index out of range\n",
      "25 list index out of range\n",
      "26 list index out of range\n",
      "29 list index out of range\n"
     ]
    }
   ],
   "source": [
    "genus_to_family = dict()\n",
    "for i in range(len(taxa_data)):\n",
    "    try:\n",
    "        genus = taxa_data[i][\"ScientificName\"].lower()\n",
    "        family = [item[\"ScientificName\"].lower() for item in taxa_data[i][\"LineageEx\"] if item[\"Rank\"] == \"family\"][0]\n",
    "        genus_to_family[genus] = family\n",
    "    except Exception as e:\n",
    "        print(i, e)"
   ]
  },
  {
   "cell_type": "code",
   "execution_count": 11,
   "id": "6b0ec0ba-d3af-4da1-99b8-63ad352d1e94",
   "metadata": {},
   "outputs": [],
   "source": [
    "classification_data.set_index(\"genus\", inplace=True)\n",
    "classification_data.family.fillna(value=genus_to_family, inplace=True)\n",
    "classification_data.reset_index(inplace=True)\n",
    "classification_data.to_csv(tree_classification_data_path, index=False)"
   ]
  },
  {
   "cell_type": "markdown",
   "id": "9e0cdca9-2baf-446c-ab1e-728621e61582",
   "metadata": {},
   "source": [
    "## examine missing data"
   ]
  },
  {
   "cell_type": "code",
   "execution_count": 31,
   "id": "3a138862-fcce-430f-a6b0-94a1bac48369",
   "metadata": {},
   "outputs": [],
   "source": [
    "tree = Tree(resolved_tree_path_with_additions, format=1)\n",
    "ccdb.dropna(subset=[\"parsed_n\"], inplace=True)\n",
    "ccdb.parsed_n = ccdb.parsed_n.apply(lambda n: [int(i) for i in n.split(\",\")] if type(n) == str else [n])\n",
    "ccdb = ccdb.explode(\"parsed_n\")\n",
    "name_to_count = (\n",
    "    ccdb.groupby(\"mapped_name\")[\"parsed_n\"]\n",
    "    .apply(lambda l: np.median(l.dropna()) if len(l.dropna()) > 0 else np.nan)\n",
    "    .to_dict()\n",
    ")\n",
    "for leaf in tree.get_leaves():\n",
    "    leaf.name = f\"{leaf.name}-{name_to_count.get(leaf.name, 'X')}\""
   ]
  },
  {
   "cell_type": "code",
   "execution_count": 39,
   "id": "40c1de80-521a-4b16-8352-416c820f32d8",
   "metadata": {},
   "outputs": [
    {
     "name": "stdout",
     "output_type": "stream",
     "text": [
      "# tree genera = 8,435\n"
     ]
    }
   ],
   "source": [
    "genus_stats_dfs = []\n",
    "tree_genera = set([name.split(\" \")[0] for name in tree.get_leaf_names()])\n",
    "print(f\"# tree genera = {len(list(tree_genera)):,}\")\n",
    "for genus in tree_genera:\n",
    "    members = [ln for ln in genus_to_ancestor[genus].get_leaf_names() if ln.startswith(genus)]\n",
    "    genus_data = {\"genus\": [genus], \"size\": [len(members)]}\n",
    "    genus_data[\"frac_missing\"] = [len([n for n in members if n not in ccdb_names]) / len(members)]\n",
    "    genus_stats_dfs.append(pd.DataFrame(genus_data))\n",
    "genus_stats_df = pd.concat(genus_stats_dfs)"
   ]
  },
  {
   "cell_type": "code",
   "execution_count": 40,
   "id": "5e80695f-3e89-457a-8c24-578ed261e340",
   "metadata": {},
   "outputs": [
    {
     "data": {
      "text/plain": [
       "Text(0.5, 1.0, 'distribution of missing counts across genera')"
      ]
     },
     "execution_count": 40,
     "metadata": {},
     "output_type": "execute_result"
    },
    {
     "data": {
      "image/png": "[encoded data removed]",
      "text/plain": [
       "<Figure size 640x480 with 1 Axes>"
      ]
     },
     "metadata": {},
     "output_type": "display_data"
    }
   ],
   "source": [
    "fig, ax = plt.subplots()\n",
    "genus_stats_df.frac_missing.hist(ax=ax, density=True, bins=20)\n",
    "ax.set_xlabel(\"fraction of missing species\")\n",
    "ax.set_ylabel(\"# genera\")\n",
    "ax.set_title(\"distribution of missing counts across genera\")"
   ]
  },
  {
   "cell_type": "code",
   "execution_count": null,
   "id": "05376e0e-c8f8-4932-a4e2-1e3db8b696ca",
   "metadata": {},
   "outputs": [],
   "source": []
  }
 ],
 "metadata": {
  "kernelspec": {
   "display_name": "Python 3 (ipykernel)",
   "language": "python",
   "name": "python3"
  },
  "language_info": {
   "codemirror_mode": {
    "name": "ipython",
    "version": 3
   },
   "file_extension": ".py",
   "mimetype": "text/x-python",
   "name": "python",
   "nbconvert_exporter": "python",
   "pygments_lexer": "ipython3",
   "version": "3.10.6"
  }
 },
 "nbformat": 4,
 "nbformat_minor": 5
}