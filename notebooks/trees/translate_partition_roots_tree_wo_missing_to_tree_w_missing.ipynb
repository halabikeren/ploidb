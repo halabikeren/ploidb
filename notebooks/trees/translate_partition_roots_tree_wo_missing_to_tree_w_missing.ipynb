{
 "cells": [
  {
   "cell_type": "code",
   "execution_count": 1,
   "id": "47c0c625-eb8f-4447-a79c-6f046a0b7cfe",
   "metadata": {},
   "outputs": [
    {
     "name": "stdout",
     "output_type": "stream",
     "text": [
      "INFO: Pandarallel will run on 20 workers.\n",
      "INFO: Pandarallel will use standard multiprocessing data transfer (pipe) to transfer data between the main process and workers.\n"
     ]
    }
   ],
   "source": [
    "import pandas as pd\n",
    "import numpy as np\n",
    "import os\n",
    "from ete3 import Tree\n",
    "\n",
    "from pandarallel import pandarallel\n",
    "\n",
    "pandarallel.initialize(progress_bar=True, use_memory_fs=False)"
   ]
  },
  {
   "cell_type": "code",
   "execution_count": 2,
   "id": "18a2b9b7-0bf3-4833-b237-c495196d174b",
   "metadata": {},
   "outputs": [],
   "source": [
    "partition_wo_missing_roots_path = \"../trees/optimal_ALLMB_roots_for_genus_partition.csv\"\n",
    "partition_w_missing_roots_path = \"../trees/optimal_by_wo_missing_ALLMB_roots_for_genus_partition.csv\"\n",
    "\n",
    "tree_wo_missing_path = f\"../trees/resolved_ALLMB_name_resolution_on_none_with_added_ccdb_names.nwk\"\n",
    "tree_w_missing_path = f\"../trees/resolved_ALLMB_name_resolution_on_none_with_added_ccdb_and_wo_counts_names.nwk\"\n",
    "\n",
    "ccdb_path = f\"../ccdb/resolved_data_name_resolved_on_none.csv\""
   ]
  },
  {
   "cell_type": "code",
   "execution_count": 3,
   "id": "5da76b6d-2fa1-4345-bbd4-e17224fe30bb",
   "metadata": {},
   "outputs": [],
   "source": [
    "partition_roots_wo_missing = pd.read_csv(partition_wo_missing_roots_path)\n",
    "\n",
    "tree_wo_missing = Tree(tree_wo_missing_path, format=1)\n",
    "for leaf in tree_wo_missing.get_leaves():\n",
    "    leaf.name = leaf.name.replace(\"_\", \" \")\n",
    "\n",
    "tree_w_missing = Tree(tree_w_missing_path, format=1)\n",
    "for leaf in tree_w_missing.get_leaves():\n",
    "    leaf.name = leaf.name.replace(\"_\", \" \")"
   ]
  },
  {
   "cell_type": "code",
   "execution_count": 4,
   "id": "f59ef93d-eb74-4b22-af21-d92860afde07",
   "metadata": {},
   "outputs": [],
   "source": [
    "partition_roots_w_missing = partition_roots_wo_missing.copy()\n",
    "\n",
    "\n",
    "def get_updated_genus(record: pd.Series) -> list:\n",
    "    genus = record.genus\n",
    "    try:\n",
    "        root_name_wo_missing = record.node\n",
    "        members_wo_missing = tree_wo_missing.search_nodes(name=root_name_wo_missing)[0].get_leaf_names()\n",
    "        assert len(members_wo_missing) == record.size_subtree\n",
    "        members_wo_missing = set(members_wo_missing) & set(tree_w_missing.get_leaf_names())\n",
    "        root_w_missing = tree_w_missing.get_common_ancestor(members_wo_missing)\n",
    "        root_name_w_missing = root_w_missing.name\n",
    "        num_members_w_missing = len([l for l in root_w_missing.get_leaf_names() if l.startswith(genus)])\n",
    "        size_subtree_w_missing = len(root_w_missing.get_leaves())\n",
    "        return root_name_w_missing, num_members_w_missing, size_subtree_w_missing\n",
    "    except Exception as e:\n",
    "        print(f\"error from genus {genus}: {e}\")\n",
    "        return np.nan, np.nan, np.nan\n"
   ]
  },
  {
   "cell_type": "code",
   "execution_count": 6,
   "id": "7fb8e3b3-3200-4d1c-bd34-c818289e6269",
   "metadata": {},
   "outputs": [],
   "source": [
    "partition_roots_w_missing[[\"node\", \"num_members\", \"size_subtree\"]] = partition_roots_w_missing.parallel_apply(\n",
    "    get_updated_genus, axis=1, result_type=\"expand\"\n",
    ")\n",
    "partition_roots_w_missing.to_csv(partition_w_missing_roots_path)"
   ]
  }
 ],
 "metadata": {
  "kernelspec": {
   "display_name": "Python 3 (ipykernel)",
   "language": "python",
   "name": "python3"
  },
  "language_info": {
   "codemirror_mode": {
    "name": "ipython",
    "version": 3
   },
   "file_extension": ".py",
   "mimetype": "text/x-python",
   "name": "python",
   "nbconvert_exporter": "python",
   "pygments_lexer": "ipython3",
   "version": "3.10.6"
  }
 },
 "nbformat": 4,
 "nbformat_minor": 5
}